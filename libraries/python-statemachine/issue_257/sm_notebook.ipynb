{
 "cells": [
  {
   "cell_type": "code",
   "execution_count": 5,
   "id": "5eed7a8d",
   "metadata": {},
   "outputs": [],
   "source": [
    "%reload_ext autoreload\n",
    "%autoreload 2\n",
    "\n",
    "from my_state_machine import MyStateMachine"
   ]
  },
  {
   "cell_type": "code",
   "execution_count": 6,
   "id": "7c5b909c",
   "metadata": {},
   "outputs": [],
   "source": [
    "state_machine = MyStateMachine()\n",
    "state_machine.transition12()"
   ]
  },
  {
   "cell_type": "code",
   "execution_count": null,
   "id": "63202ec3",
   "metadata": {},
   "outputs": [],
   "source": []
  }
 ],
 "metadata": {
  "kernelspec": {
   "display_name": ".venv",
   "language": "python",
   "name": ".venv"
  },
  "language_info": {
   "codemirror_mode": {
    "name": "ipython",
    "version": 3
   },
   "file_extension": ".py",
   "mimetype": "text/x-python",
   "name": "python",
   "nbconvert_exporter": "python",
   "pygments_lexer": "ipython3",
   "version": "3.8.10"
  }
 },
 "nbformat": 4,
 "nbformat_minor": 5
}
