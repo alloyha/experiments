{
 "cells": [
  {
   "cell_type": "code",
   "execution_count": 1,
   "id": "51a67634",
   "metadata": {
    "collapsed": true
   },
   "outputs": [
    {
     "name": "stdout",
     "output_type": "stream",
     "text": [
      "Defaulting to user installation because normal site-packages is not writeable\n",
      "Requirement already satisfied: eule==1.0.1 in /home/brunolnetto/.local/lib/python3.8/site-packages (1.0.1)\n",
      "Requirement already satisfied: sphinx-rtd-theme<2.0.0,>=1.2.0 in /home/brunolnetto/.local/lib/python3.8/site-packages (from eule==1.0.1) (1.2.0)\n",
      "Requirement already satisfied: types-toml<0.11.0.0,>=0.10.8.5 in /home/brunolnetto/.local/lib/python3.8/site-packages (from eule==1.0.1) (0.10.8.6)\n",
      "Requirement already satisfied: numpy<2.0.0,>=1.24.1 in /home/brunolnetto/.local/lib/python3.8/site-packages (from eule==1.0.1) (1.24.3)\n",
      "Requirement already satisfied: docutils==0.18.1 in /home/brunolnetto/.local/lib/python3.8/site-packages (from eule==1.0.1) (0.18.1)\n",
      "Requirement already satisfied: toml<0.11.0,>=0.10.2 in /usr/local/lib/python3.8/dist-packages (from eule==1.0.1) (0.10.2)\n",
      "Requirement already satisfied: sphinx<7,>=1.6 in /usr/local/lib/python3.8/dist-packages (from sphinx-rtd-theme<2.0.0,>=1.2.0->eule==1.0.1) (1.8.5)\n",
      "Requirement already satisfied: sphinxcontrib-jquery!=3.0.0,>=2.0.0 in /home/brunolnetto/.local/lib/python3.8/site-packages (from sphinx-rtd-theme<2.0.0,>=1.2.0->eule==1.0.1) (4.1)\n",
      "Requirement already satisfied: alabaster<0.8,>=0.7 in /usr/local/lib/python3.8/dist-packages (from sphinx<7,>=1.6->sphinx-rtd-theme<2.0.0,>=1.2.0->eule==1.0.1) (0.7.12)\n",
      "Requirement already satisfied: snowballstemmer>=1.1 in /usr/local/lib/python3.8/dist-packages (from sphinx<7,>=1.6->sphinx-rtd-theme<2.0.0,>=1.2.0->eule==1.0.1) (2.2.0)\n",
      "Requirement already satisfied: babel!=2.0,>=1.3 in /usr/local/lib/python3.8/dist-packages (from sphinx<7,>=1.6->sphinx-rtd-theme<2.0.0,>=1.2.0->eule==1.0.1) (2.11.0)\n",
      "Requirement already satisfied: requests>=2.0.0 in /usr/local/lib/python3.8/dist-packages (from sphinx<7,>=1.6->sphinx-rtd-theme<2.0.0,>=1.2.0->eule==1.0.1) (2.27.1)\n",
      "Requirement already satisfied: Jinja2>=2.3 in /usr/local/lib/python3.8/dist-packages (from sphinx<7,>=1.6->sphinx-rtd-theme<2.0.0,>=1.2.0->eule==1.0.1) (3.1.2)\n",
      "Requirement already satisfied: Pygments>=2.0 in /usr/local/lib/python3.8/dist-packages (from sphinx<7,>=1.6->sphinx-rtd-theme<2.0.0,>=1.2.0->eule==1.0.1) (2.12.0)\n",
      "Requirement already satisfied: packaging in /usr/local/lib/python3.8/dist-packages (from sphinx<7,>=1.6->sphinx-rtd-theme<2.0.0,>=1.2.0->eule==1.0.1) (21.3)\n",
      "Requirement already satisfied: setuptools in /usr/local/lib/python3.8/dist-packages (from sphinx<7,>=1.6->sphinx-rtd-theme<2.0.0,>=1.2.0->eule==1.0.1) (62.3.2)\n",
      "Requirement already satisfied: sphinxcontrib-websupport in /usr/local/lib/python3.8/dist-packages (from sphinx<7,>=1.6->sphinx-rtd-theme<2.0.0,>=1.2.0->eule==1.0.1) (1.1.0)\n",
      "Requirement already satisfied: imagesize in /usr/local/lib/python3.8/dist-packages (from sphinx<7,>=1.6->sphinx-rtd-theme<2.0.0,>=1.2.0->eule==1.0.1) (1.4.1)\n",
      "Requirement already satisfied: six>=1.5 in /usr/local/lib/python3.8/dist-packages (from sphinx<7,>=1.6->sphinx-rtd-theme<2.0.0,>=1.2.0->eule==1.0.1) (1.16.0)\n",
      "Requirement already satisfied: pytz>=2015.7 in /usr/local/lib/python3.8/dist-packages (from babel!=2.0,>=1.3->sphinx<7,>=1.6->sphinx-rtd-theme<2.0.0,>=1.2.0->eule==1.0.1) (2022.1)\n",
      "Requirement already satisfied: MarkupSafe>=2.0 in /usr/local/lib/python3.8/dist-packages (from Jinja2>=2.3->sphinx<7,>=1.6->sphinx-rtd-theme<2.0.0,>=1.2.0->eule==1.0.1) (2.1.1)\n",
      "Requirement already satisfied: certifi>=2017.4.17 in /usr/local/lib/python3.8/dist-packages (from requests>=2.0.0->sphinx<7,>=1.6->sphinx-rtd-theme<2.0.0,>=1.2.0->eule==1.0.1) (2022.5.18.1)\n",
      "Requirement already satisfied: idna<4,>=2.5 in /usr/local/lib/python3.8/dist-packages (from requests>=2.0.0->sphinx<7,>=1.6->sphinx-rtd-theme<2.0.0,>=1.2.0->eule==1.0.1) (3.3)\n",
      "Requirement already satisfied: charset-normalizer~=2.0.0 in /usr/local/lib/python3.8/dist-packages (from requests>=2.0.0->sphinx<7,>=1.6->sphinx-rtd-theme<2.0.0,>=1.2.0->eule==1.0.1) (2.0.12)\n",
      "Requirement already satisfied: urllib3<1.27,>=1.21.1 in /usr/local/lib/python3.8/dist-packages (from requests>=2.0.0->sphinx<7,>=1.6->sphinx-rtd-theme<2.0.0,>=1.2.0->eule==1.0.1) (1.26.9)\n",
      "Requirement already satisfied: pyparsing!=3.0.5,>=2.0.2 in /usr/local/lib/python3.8/dist-packages (from packaging->sphinx<7,>=1.6->sphinx-rtd-theme<2.0.0,>=1.2.0->eule==1.0.1) (3.0.9)\n",
      "\n",
      "\u001b[1m[\u001b[0m\u001b[34;49mnotice\u001b[0m\u001b[1;39;49m]\u001b[0m\u001b[39;49m A new release of pip is available: \u001b[0m\u001b[31;49m23.0.1\u001b[0m\u001b[39;49m -> \u001b[0m\u001b[32;49m23.1.2\u001b[0m\n",
      "\u001b[1m[\u001b[0m\u001b[34;49mnotice\u001b[0m\u001b[1;39;49m]\u001b[0m\u001b[39;49m To update, run: \u001b[0m\u001b[32;49mpython3 -m pip install --upgrade pip\u001b[0m\n"
     ]
    }
   ],
   "source": [
    "!pip install eule==1.0.1"
   ]
  },
  {
   "cell_type": "code",
   "execution_count": 35,
   "id": "0e3df726",
   "metadata": {},
   "outputs": [],
   "source": [
    "import pytest\n",
    "import ipytest\n",
    "import json\n",
    "\n",
    "ipytest.autoconfig()"
   ]
  },
  {
   "cell_type": "code",
   "execution_count": 36,
   "id": "1fa739c8",
   "metadata": {},
   "outputs": [],
   "source": [
    "def _update_dict(_dict, key, value):\n",
    "    if(key in list(_dict.keys())):\n",
    "        _dict[key].append(value)\n",
    "\n",
    "    else:\n",
    "        _dict[key] = []\n",
    "        _dict[key].append(value)\n",
    "\n",
    "    return _dict\n",
    "\n",
    "def _shrink_dict(_dict):\n",
    "    return {key: list({val for val in value}) for key, value in _dict.items()}\n",
    "\n",
    "def inverse_dict(dict_):\n",
    "    _dict = {}\n",
    "    \n",
    "    for key, values in dict_.items():\n",
    "        for value in values:\n",
    "            # String key\n",
    "            if(isinstance(key, str)):\n",
    "                _update_dict(_dict, value, key)\n",
    "            \n",
    "            # Tuple key \n",
    "            elif(isinstance(key, tuple)):\n",
    "                for subkey in key:\n",
    "                    _update_dict(_dict, value, subkey)                \n",
    "            \n",
    "            # Anything else\n",
    "            else:\n",
    "                msg='Keys must be hasheable! In out case, they must be str or tuple.'\n",
    "                raise Exception(msg)\n",
    "                    \n",
    "    return _shrink_dict(_dict)\n",
    "\n",
    "def flatten(l):\n",
    "    return [item for sublist in l for item in sublist]\n",
    "\n",
    "def json_prettify(json_):\n",
    "    return json.dumps(json_, indent=4);"
   ]
  },
  {
   "cell_type": "code",
   "execution_count": 37,
   "id": "16c8789e",
   "metadata": {},
   "outputs": [
    {
     "name": "stdout",
     "output_type": "stream",
     "text": [
      "\u001b[32m.\u001b[0m\u001b[32m.\u001b[0m\u001b[32m.\u001b[0m\u001b[32m.\u001b[0m\u001b[32m.\u001b[0m\u001b[32m.\u001b[0m\u001b[32m                                                                                       [100%]\u001b[0m\n",
      "\u001b[32m\u001b[32m\u001b[1m6 passed\u001b[0m\u001b[32m in 0.01s\u001b[0m\u001b[0m\n"
     ]
    }
   ],
   "source": [
    "%%ipytest\n",
    "\n",
    "from copy import deepcopy\n",
    "\n",
    "_dict={'a': [1, 2, 3, 3], 'b': [3, 4]}\n",
    "old_key='a'\n",
    "new_value=5\n",
    "new_key='c'\n",
    "updated_old_dict={'a': [1, 2, 3, 3, 5], 'b': [3, 4]}\n",
    "updated_new_dict={'a': [1, 2, 3, 3], 'b': [3, 4], 'c': [5]}\n",
    "\n",
    "inverted_dict={\n",
    "    '1': ['a'], \n",
    "    '2': ['a'],\n",
    "    '3': ['a','b'],\n",
    "    '4': ['b']\n",
    "}\n",
    "shrunk_dict={'a': [1, 2, 3], 'b': [3, 4]}\n",
    "\n",
    "def test_update_dict_old_key():\n",
    "    assert _update_dict(deepcopy(_dict), old_key, new_value) == \\\n",
    "        updated_old_dict\n",
    "    \n",
    "def test_update_dict_new_key():\n",
    "    assert _update_dict(deepcopy(_dict), new_key, new_value ) == \\\n",
    "        updated_new_dict\n",
    "    \n",
    "def test_shrink_dict():\n",
    "    assert _shrink_dict(_dict) == shrunk_dict\n",
    "\n",
    "def test_inverse_dict():\n",
    "    assert inverse_dict(_dict) == inverted_dict\n",
    "    \n",
    "def test_inverse_dict():\n",
    "    assert inverse_dict(\n",
    "        {'a': [1, 2], 'b': [3, 4]}\n",
    "    ) == {\n",
    "            1: ['a'], \n",
    "            2: ['a'],\n",
    "            3: ['b'],\n",
    "            4: ['b']\n",
    "         }\n",
    "\n",
    "def test_flatten():\n",
    "    assert flatten([[1, 2], [3, 4]]) == [1, 2, 3, 4]\n",
    "    \n",
    "def test_json_prettify():\n",
    "    assert json_prettify({'a': 1, 'b': 2}) == '{\\n    \"a\": 1,\\n    \"b\": 2\\n}'"
   ]
  },
  {
   "cell_type": "code",
   "execution_count": 42,
   "id": "c5a7a8f1",
   "metadata": {},
   "outputs": [
    {
     "name": "stdout",
     "output_type": "stream",
     "text": [
      "{\n",
      "    \"Infrastructure\": [\n",
      "        \"Compute\",\n",
      "        \"Storage\",\n",
      "        \"Networking\",\n",
      "        \"Security and Identity\"\n",
      "    ],\n",
      "    \"Data and Analytics\": [\n",
      "        \"Database\",\n",
      "        \"AI and Machine Learning\",\n",
      "        \"Analytics and Big Data\",\n",
      "        \"Data Integration and ETL\"\n",
      "    ],\n",
      "    \"Application Development and Deployment\": [\n",
      "        \"Developer Tools\",\n",
      "        \"Containers and Container Orchestration\",\n",
      "        \"Serverless Computing\",\n",
      "        \"Mobile and App Development\",\n",
      "        \"Desktop Virtualization and Remote Desktop Services\"\n",
      "    ],\n",
      "    \"Industry-specific Solutions\": [\n",
      "        \"Internet of Things (IoT)\",\n",
      "        \"Media and Streaming Services\",\n",
      "        \"Collaboration and Productivity Tools\",\n",
      "        \"Business Process Automation\",\n",
      "        \"Customer Relationship Management (CRM)\",\n",
      "        \"Enterprise Resource Planning (ERP)\",\n",
      "        \"Human Resources (HR) and Talent Management\",\n",
      "        \"Supply Chain and Logistics Management\",\n",
      "        \"Financial Services and Fintech\",\n",
      "        \"Healthcare and Life Sciences\",\n",
      "        \"E-commerce and Retail\"\n",
      "    ],\n",
      "    \"Operations and Infrastructure Management\": [\n",
      "        \"Management and Monitoring\",\n",
      "        \"Content Delivery and Edge Computing\",\n",
      "        \"Migration and Transfer Services\",\n",
      "        \"DevOps and Continuous Integration/Continuous Deployment (CI/CD)\",\n",
      "        \"Data Governance and Compliance\",\n",
      "        \"Disaster Recovery and Backup\",\n",
      "        \"High-Performance Computing (HPC)\"\n",
      "    ],\n",
      "    \"Emerging Technologies\": [\n",
      "        \"Blockchain\",\n",
      "        \"Game Development\",\n",
      "        \"Robotics and Automation\",\n",
      "        \"Geospatial and Location-based Services\",\n",
      "        \"Gaming and Simulation\"\n",
      "    ]\n",
      "}\n"
     ]
    }
   ],
   "source": [
    "import json\n",
    "\n",
    "with open('./cloud_categories.json') as f:\n",
    "    categories_to_services = json.load(f)\n",
    "\n",
    "print(json_prettify(categories_to_services))"
   ]
  },
  {
   "cell_type": "code",
   "execution_count": 43,
   "id": "bdf481cc",
   "metadata": {},
   "outputs": [
    {
     "name": "stdout",
     "output_type": "stream",
     "text": [
      "{'Compute': ['AWS', 'Azure', 'GCP', 'IBM', 'OCI', 'Alibaba', 'Salesforce', 'VMware', 'DigitalOcean', 'Rackspace', 'SAP', 'Heroku', 'OpenShift', 'Cisco', 'Huawei', 'Tencent', 'OVHcloud', 'Fujitsu', 'NTT', 'Joyent'], 'Storage': ['AWS', 'Azure', 'GCP', 'IBM', 'OCI', 'Alibaba', 'Salesforce', 'VMware', 'DigitalOcean', 'Rackspace', 'SAP', 'Heroku', 'OpenShift', 'Cisco', 'Huawei', 'Tencent', 'OVHcloud', 'Fujitsu', 'NTT', 'Joyent'], 'Database': ['AWS', 'Azure', 'GCP', 'IBM', 'OCI', 'Alibaba', 'Salesforce', 'VMware', 'DigitalOcean', 'Rackspace', 'SAP', 'Heroku', 'OpenShift', 'Cisco', 'Huawei', 'Tencent', 'OVHcloud', 'Fujitsu', 'NTT', 'Joyent'], 'Networking': ['AWS', 'Azure', 'GCP', 'IBM', 'OCI', 'Alibaba', 'Salesforce', 'VMware', 'DigitalOcean', 'Rackspace', 'SAP', 'Heroku', 'OpenShift', 'Cisco', 'Huawei', 'Tencent', 'OVHcloud', 'Fujitsu', 'NTT', 'Joyent'], 'AI and Machine Learning': ['AWS', 'Azure', 'GCP', 'IBM', 'OCI', 'Alibaba', 'Salesforce', 'VMware', 'DigitalOcean', 'Rackspace', 'SAP', 'Heroku', 'OpenShift', 'Cisco', 'Huawei', 'Tencent', 'OVHcloud', 'Fujitsu', 'NTT', 'Joyent'], 'Analytics and Big Data': ['AWS', 'Azure', 'GCP', 'IBM', 'OCI', 'Alibaba', 'Salesforce', 'VMware', 'DigitalOcean', 'Rackspace', 'SAP', 'Heroku', 'OpenShift', 'Cisco', 'Huawei', 'Tencent', 'OVHcloud', 'Fujitsu', 'NTT', 'Joyent'], 'Security and Identity': ['AWS', 'Azure', 'GCP', 'IBM', 'OCI', 'Alibaba', 'Salesforce', 'VMware', 'DigitalOcean', 'Rackspace', 'SAP', 'Heroku', 'OpenShift', 'Cisco', 'Huawei', 'Tencent', 'OVHcloud', 'Fujitsu', 'NTT', 'Joyent'], 'Developer Tools': ['AWS', 'Azure', 'GCP', 'IBM', 'OCI', 'Alibaba', 'Salesforce', 'VMware', 'DigitalOcean', 'Rackspace', 'SAP', 'Heroku', 'OpenShift', 'Cisco', 'Huawei', 'Tencent', 'OVHcloud', 'Fujitsu', 'NTT', 'Joyent'], 'Internet of Things (IoT)': ['AWS', 'Azure', 'GCP', 'IBM', 'OCI', 'Alibaba', 'Salesforce', 'VMware', 'DigitalOcean', 'Rackspace', 'SAP', 'Heroku', 'OpenShift', 'Cisco', 'Huawei', 'Tencent', 'OVHcloud', 'Fujitsu', 'NTT', 'Joyent'], 'Management and Monitoring': ['AWS', 'Azure', 'GCP', 'IBM', 'OCI', 'Alibaba', 'Salesforce', 'VMware', 'DigitalOcean', 'Rackspace', 'SAP', 'Heroku', 'OpenShift', 'Cisco', 'Huawei', 'Tencent', 'OVHcloud', 'Fujitsu', 'NTT', 'Joyent'], 'Content Delivery and Edge Computing': ['AWS', 'Azure', 'GCP', 'IBM', 'OCI', 'Alibaba', 'Salesforce', 'VMware', 'DigitalOcean', 'Rackspace', 'SAP', 'Heroku', 'OpenShift', 'Cisco', 'Huawei', 'Tencent', 'OVHcloud', 'Fujitsu', 'NTT', 'Joyent'], 'Containers and Container Orchestration': ['AWS', 'Azure', 'GCP', 'IBM', 'OCI', 'Alibaba', 'Salesforce', 'VMware', 'DigitalOcean', 'Rackspace', 'SAP', 'Heroku', 'OpenShift', 'Cisco', 'Huawei', 'Tencent', 'OVHcloud', 'Fujitsu', 'NTT', 'Joyent'], 'Serverless Computing': ['AWS', 'Azure', 'GCP', 'IBM', 'OCI', 'Alibaba', 'Salesforce', 'VMware', 'DigitalOcean', 'Rackspace', 'SAP', 'Heroku', 'OpenShift', 'Cisco', 'Huawei', 'Tencent', 'OVHcloud', 'Fujitsu', 'NTT', 'Joyent'], 'Data Integration and ETL': ['AWS', 'Azure', 'GCP', 'IBM', 'OCI', 'Alibaba', 'Salesforce', 'VMware', 'DigitalOcean', 'Rackspace', 'SAP', 'Heroku', 'OpenShift', 'Cisco', 'Huawei', 'Tencent', 'OVHcloud', 'Fujitsu', 'NTT', 'Joyent'], 'Blockchain': ['AWS', 'Azure', 'GCP', 'IBM', 'OCI', 'Alibaba', 'Salesforce', 'VMware', 'DigitalOcean', 'Rackspace', 'SAP', 'Heroku', 'OpenShift', 'Cisco', 'Huawei', 'Tencent', 'OVHcloud', 'Fujitsu', 'NTT', 'Joyent'], 'Game Development': ['AWS', 'Azure', 'GCP', 'IBM', 'OCI', 'Alibaba', 'Salesforce', 'VMware', 'DigitalOcean', 'Rackspace', 'SAP', 'Heroku', 'OpenShift', 'Cisco', 'Huawei', 'Tencent', 'OVHcloud', 'Fujitsu', 'NTT', 'Joyent'], 'Media and Streaming Services': ['AWS', 'Azure', 'GCP', 'IBM', 'OCI', 'Alibaba', 'Salesforce', 'VMware', 'DigitalOcean', 'Rackspace', 'SAP', 'Heroku', 'OpenShift', 'Cisco', 'Huawei', 'Tencent', 'OVHcloud', 'Fujitsu', 'NTT', 'Joyent'], 'Mobile and App Development': ['AWS', 'Azure', 'GCP', 'IBM', 'OCI', 'Alibaba', 'Salesforce', 'VMware', 'DigitalOcean', 'Rackspace', 'SAP', 'Heroku', 'OpenShift', 'Cisco', 'Huawei', 'Tencent', 'OVHcloud', 'Fujitsu', 'NTT', 'Joyent'], 'Migration and Transfer Services': ['AWS', 'Azure', 'GCP', 'IBM', 'OCI', 'Alibaba', 'Salesforce', 'VMware', 'DigitalOcean', 'Rackspace', 'SAP', 'Heroku', 'OpenShift', 'Cisco', 'Huawei', 'Tencent', 'OVHcloud', 'Fujitsu', 'NTT', 'Joyent'], 'Desktop Virtualization and Remote Desktop Services': ['AWS', 'Azure', 'GCP', 'IBM', 'OCI', 'Alibaba', 'Salesforce', 'VMware', 'DigitalOcean', 'Rackspace', 'SAP', 'Heroku', 'OpenShift', 'Cisco', 'Huawei', 'Tencent', 'OVHcloud', 'Fujitsu', 'NTT', 'Joyent'], 'Collaboration and Productivity Tools': ['AWS', 'Azure', 'GCP', 'IBM', 'OCI', 'Alibaba', 'Salesforce', 'VMware', 'DigitalOcean', 'Rackspace', 'SAP', 'Heroku', 'OpenShift', 'Cisco', 'Huawei', 'Tencent', 'OVHcloud', 'Fujitsu', 'NTT', 'Joyent'], 'Business Process Automation': ['AWS', 'Azure', 'GCP', 'IBM', 'OCI', 'Alibaba', 'Salesforce', 'VMware', 'DigitalOcean', 'Rackspace', 'SAP', 'Heroku', 'OpenShift', 'Cisco', 'Huawei', 'Tencent', 'OVHcloud', 'Fujitsu', 'NTT', 'Joyent'], 'Customer Relationship Management (CRM)': ['AWS', 'Azure', 'GCP', 'IBM', 'OCI', 'Alibaba', 'Salesforce', 'VMware', 'DigitalOcean', 'Rackspace', 'SAP', 'Heroku', 'OpenShift', 'Cisco', 'Huawei', 'Tencent', 'OVHcloud', 'Fujitsu', 'NTT', 'Joyent'], 'Enterprise Resource Planning (ERP)': ['AWS', 'Azure', 'GCP', 'IBM', 'OCI', 'Alibaba', 'Salesforce', 'VMware', 'DigitalOcean', 'Rackspace', 'SAP', 'Heroku', 'OpenShift', 'Cisco', 'Huawei', 'Tencent', 'OVHcloud', 'Fujitsu', 'NTT', 'Joyent'], 'Human Resources (HR) and Talent Management': ['AWS', 'Azure', 'GCP', 'IBM', 'OCI', 'Alibaba', 'Salesforce', 'VMware', 'DigitalOcean', 'Rackspace', 'SAP', 'Heroku', 'OpenShift', 'Cisco', 'Huawei', 'Tencent', 'OVHcloud', 'Fujitsu', 'NTT', 'Joyent'], 'Supply Chain and Logistics Management': ['AWS', 'Azure', 'GCP', 'IBM', 'OCI', 'Alibaba', 'Salesforce', 'VMware', 'DigitalOcean', 'Rackspace', 'SAP', 'Heroku', 'OpenShift', 'Cisco', 'Huawei', 'Tencent', 'OVHcloud', 'Fujitsu', 'NTT', 'Joyent'], 'Financial Services and Fintech': ['AWS', 'Azure', 'GCP', 'IBM', 'Oracle', 'Alibaba', 'Salesforce', 'VMware'], 'Healthcare and Life Sciences': ['AWS', 'Azure', 'GCP', 'IBM', 'Oracle'], 'E-commerce and Retail': ['AWS', 'Azure', 'GCP', 'IBM', 'Oracle', 'Alibaba'], 'DevOps and Continuous Integration/Continuous Deployment (CI/CD)': ['AWS', 'Azure', 'GCP', 'IBM', 'Oracle', 'Salesforce', 'VMware', 'DigitalOcean', 'Heroku'], 'Data Governance and Compliance': ['AWS', 'Azure', 'GCP', 'IBM', 'Oracle', 'Salesforce'], 'Disaster Recovery and Backup': ['AWS', 'Azure', 'GCP', 'IBM', 'Oracle', 'VMware'], 'High-Performance Computing (HPC)': ['AWS', 'Azure', 'GCP', 'IBM', 'Oracle'], 'Robotics and Automation': ['AWS', 'Azure', 'GCP', 'IBM', 'Oracle'], 'Geospatial and Location-based Services': ['AWS', 'Azure', 'GCP', 'IBM', 'Oracle'], 'Gaming and Simulation': ['AWS', 'Azure', 'GCP', 'IBM', 'Oracle', 'VMware', 'DigitalOcean']}\n"
     ]
    }
   ],
   "source": [
    "import json\n",
    "\n",
    "with open('./cloud_services.json') as f:\n",
    "    services_to_clouds = json.load(f)\n",
    "\n",
    "print(services_to_clouds)"
   ]
  },
  {
   "cell_type": "code",
   "execution_count": 44,
   "id": "d23c7c3a",
   "metadata": {},
   "outputs": [
    {
     "name": "stdout",
     "output_type": "stream",
     "text": [
      "{'Compute': 'Infrastructure', 'Storage': 'Infrastructure', 'Networking': 'Infrastructure', 'Security and Identity': 'Infrastructure', 'Database': 'Data and Analytics', 'AI and Machine Learning': 'Data and Analytics', 'Analytics and Big Data': 'Data and Analytics', 'Data Integration and ETL': 'Data and Analytics', 'Developer Tools': 'Application Development and Deployment', 'Containers and Container Orchestration': 'Application Development and Deployment', 'Serverless Computing': 'Application Development and Deployment', 'Mobile and App Development': 'Application Development and Deployment', 'Desktop Virtualization and Remote Desktop Services': 'Application Development and Deployment', 'Internet of Things (IoT)': 'Industry-specific Solutions', 'Media and Streaming Services': 'Industry-specific Solutions', 'Collaboration and Productivity Tools': 'Industry-specific Solutions', 'Business Process Automation': 'Industry-specific Solutions', 'Customer Relationship Management (CRM)': 'Industry-specific Solutions', 'Enterprise Resource Planning (ERP)': 'Industry-specific Solutions', 'Human Resources (HR) and Talent Management': 'Industry-specific Solutions', 'Supply Chain and Logistics Management': 'Industry-specific Solutions', 'Financial Services and Fintech': 'Industry-specific Solutions', 'Healthcare and Life Sciences': 'Industry-specific Solutions', 'E-commerce and Retail': 'Industry-specific Solutions', 'Management and Monitoring': 'Operations and Infrastructure Management', 'Content Delivery and Edge Computing': 'Operations and Infrastructure Management', 'Migration and Transfer Services': 'Operations and Infrastructure Management', 'DevOps and Continuous Integration/Continuous Deployment (CI/CD)': 'Operations and Infrastructure Management', 'Data Governance and Compliance': 'Operations and Infrastructure Management', 'Disaster Recovery and Backup': 'Operations and Infrastructure Management', 'High-Performance Computing (HPC)': 'Operations and Infrastructure Management', 'Blockchain': 'Emerging Technologies', 'Game Development': 'Emerging Technologies', 'Robotics and Automation': 'Emerging Technologies', 'Geospatial and Location-based Services': 'Emerging Technologies', 'Gaming and Simulation': 'Emerging Technologies'}\n"
     ]
    }
   ],
   "source": [
    "service_to_categories=inverse_dict(categories_to_services)\n",
    "\n",
    "service_to_categories={service: category[0] for service, category in service_to_categories.items()}\n",
    "\n",
    "print(service_to_categories)"
   ]
  },
  {
   "cell_type": "code",
   "execution_count": 34,
   "id": "3c27cee0",
   "metadata": {},
   "outputs": [
    {
     "data": {
      "text/plain": [
       "{'AWS': ['Application Development and Deployment',\n",
       "  'Operations and Infrastructure Management',\n",
       "  'Emerging Technologies',\n",
       "  'Infrastructure',\n",
       "  'Industry-specific Solutions',\n",
       "  'Data and Analytics'],\n",
       " 'Azure': ['Application Development and Deployment',\n",
       "  'Operations and Infrastructure Management',\n",
       "  'Emerging Technologies',\n",
       "  'Infrastructure',\n",
       "  'Industry-specific Solutions',\n",
       "  'Data and Analytics'],\n",
       " 'GCP': ['Application Development and Deployment',\n",
       "  'Operations and Infrastructure Management',\n",
       "  'Emerging Technologies',\n",
       "  'Infrastructure',\n",
       "  'Industry-specific Solutions',\n",
       "  'Data and Analytics'],\n",
       " 'IBM': ['Application Development and Deployment',\n",
       "  'Operations and Infrastructure Management',\n",
       "  'Emerging Technologies',\n",
       "  'Infrastructure',\n",
       "  'Industry-specific Solutions',\n",
       "  'Data and Analytics'],\n",
       " 'OCI': ['Application Development and Deployment',\n",
       "  'Operations and Infrastructure Management',\n",
       "  'Emerging Technologies',\n",
       "  'Infrastructure',\n",
       "  'Industry-specific Solutions',\n",
       "  'Data and Analytics'],\n",
       " 'Alibaba': ['Application Development and Deployment',\n",
       "  'Operations and Infrastructure Management',\n",
       "  'Emerging Technologies',\n",
       "  'Infrastructure',\n",
       "  'Industry-specific Solutions',\n",
       "  'Data and Analytics'],\n",
       " 'Salesforce': ['Application Development and Deployment',\n",
       "  'Operations and Infrastructure Management',\n",
       "  'Emerging Technologies',\n",
       "  'Infrastructure',\n",
       "  'Industry-specific Solutions',\n",
       "  'Data and Analytics'],\n",
       " 'VMware': ['Application Development and Deployment',\n",
       "  'Operations and Infrastructure Management',\n",
       "  'Emerging Technologies',\n",
       "  'Infrastructure',\n",
       "  'Industry-specific Solutions',\n",
       "  'Data and Analytics'],\n",
       " 'DigitalOcean': ['Application Development and Deployment',\n",
       "  'Operations and Infrastructure Management',\n",
       "  'Emerging Technologies',\n",
       "  'Infrastructure',\n",
       "  'Industry-specific Solutions',\n",
       "  'Data and Analytics'],\n",
       " 'Rackspace': ['Application Development and Deployment',\n",
       "  'Operations and Infrastructure Management',\n",
       "  'Emerging Technologies',\n",
       "  'Infrastructure',\n",
       "  'Industry-specific Solutions',\n",
       "  'Data and Analytics'],\n",
       " 'SAP': ['Application Development and Deployment',\n",
       "  'Operations and Infrastructure Management',\n",
       "  'Emerging Technologies',\n",
       "  'Infrastructure',\n",
       "  'Industry-specific Solutions',\n",
       "  'Data and Analytics'],\n",
       " 'Heroku': ['Application Development and Deployment',\n",
       "  'Operations and Infrastructure Management',\n",
       "  'Emerging Technologies',\n",
       "  'Infrastructure',\n",
       "  'Industry-specific Solutions',\n",
       "  'Data and Analytics'],\n",
       " 'OpenShift': ['Application Development and Deployment',\n",
       "  'Operations and Infrastructure Management',\n",
       "  'Emerging Technologies',\n",
       "  'Infrastructure',\n",
       "  'Industry-specific Solutions',\n",
       "  'Data and Analytics'],\n",
       " 'Cisco': ['Application Development and Deployment',\n",
       "  'Operations and Infrastructure Management',\n",
       "  'Emerging Technologies',\n",
       "  'Infrastructure',\n",
       "  'Industry-specific Solutions',\n",
       "  'Data and Analytics'],\n",
       " 'Huawei': ['Application Development and Deployment',\n",
       "  'Operations and Infrastructure Management',\n",
       "  'Emerging Technologies',\n",
       "  'Infrastructure',\n",
       "  'Industry-specific Solutions',\n",
       "  'Data and Analytics'],\n",
       " 'Tencent': ['Application Development and Deployment',\n",
       "  'Operations and Infrastructure Management',\n",
       "  'Emerging Technologies',\n",
       "  'Infrastructure',\n",
       "  'Industry-specific Solutions',\n",
       "  'Data and Analytics'],\n",
       " 'OVHcloud': ['Application Development and Deployment',\n",
       "  'Operations and Infrastructure Management',\n",
       "  'Emerging Technologies',\n",
       "  'Infrastructure',\n",
       "  'Industry-specific Solutions',\n",
       "  'Data and Analytics'],\n",
       " 'Fujitsu': ['Application Development and Deployment',\n",
       "  'Operations and Infrastructure Management',\n",
       "  'Emerging Technologies',\n",
       "  'Infrastructure',\n",
       "  'Industry-specific Solutions',\n",
       "  'Data and Analytics'],\n",
       " 'NTT': ['Application Development and Deployment',\n",
       "  'Operations and Infrastructure Management',\n",
       "  'Emerging Technologies',\n",
       "  'Infrastructure',\n",
       "  'Industry-specific Solutions',\n",
       "  'Data and Analytics'],\n",
       " 'Joyent': ['Application Development and Deployment',\n",
       "  'Operations and Infrastructure Management',\n",
       "  'Emerging Technologies',\n",
       "  'Infrastructure',\n",
       "  'Industry-specific Solutions',\n",
       "  'Data and Analytics'],\n",
       " 'Oracle': ['Emerging Technologies',\n",
       "  'Operations and Infrastructure Management',\n",
       "  'Industry-specific Solutions']}"
      ]
     },
     "execution_count": 34,
     "metadata": {},
     "output_type": "execute_result"
    }
   ],
   "source": [
    "clouds_to_categories={\n",
    "    cloud_name: list(set(map(lambda service_name: service_to_categories[service_name], services))) \\\n",
    "    for cloud_name, services in clouds_to_services.items()\n",
    "}\n",
    "clouds_to_categories"
   ]
  },
  {
   "cell_type": "code",
   "execution_count": 45,
   "id": "245c580e",
   "metadata": {},
   "outputs": [
    {
     "name": "stdout",
     "output_type": "stream",
     "text": [
      "['Compute', 'Storage', 'Database', 'Networking', 'AI and Machine Learning', 'Analytics and Big Data', 'Security and Identity', 'Developer Tools', 'Internet of Things (IoT)', 'Management and Monitoring', 'Content Delivery and Edge Computing', 'Containers and Container Orchestration', 'Serverless Computing', 'Data Integration and ETL', 'Blockchain', 'Game Development', 'Media and Streaming Services', 'Mobile and App Development', 'Migration and Transfer Services', 'Desktop Virtualization and Remote Desktop Services', 'Collaboration and Productivity Tools', 'Business Process Automation', 'Customer Relationship Management (CRM)', 'Enterprise Resource Planning (ERP)', 'Human Resources (HR) and Talent Management', 'Supply Chain and Logistics Management', 'Financial Services and Fintech', 'Healthcare and Life Sciences', 'E-commerce and Retail', 'DevOps and Continuous Integration/Continuous Deployment (CI/CD)', 'Data Governance and Compliance', 'Disaster Recovery and Backup', 'High-Performance Computing (HPC)', 'Robotics and Automation', 'Geospatial and Location-based Services', 'Gaming and Simulation']\n",
      "['AWS', 'Azure', 'GCP', 'IBM', 'OCI', 'Alibaba', 'Salesforce', 'VMware', 'DigitalOcean', 'Rackspace', 'SAP', 'Heroku', 'OpenShift', 'Cisco', 'Huawei', 'Tencent', 'OVHcloud', 'Fujitsu', 'NTT', 'Joyent', 'Oracle']\n"
     ]
    }
   ],
   "source": [
    "services=list(clouds.keys())\n",
    "print(services)\n",
    "\n",
    "clouds_to_services=inverse_dict(clouds_to_services)\n",
    "cloud_platforms=list(clouds_to_services.keys())\n",
    "print(cloud_platforms)\n"
   ]
  },
  {
   "cell_type": "code",
   "execution_count": 22,
   "id": "e0714398",
   "metadata": {},
   "outputs": [
    {
     "name": "stdout",
     "output_type": "stream",
     "text": [
      "{('AWS', 'Alibaba', 'Azure', 'Cisco', 'DigitalOcean', 'Fujitsu', 'GCP', 'Heroku', 'Huawei', 'IBM', 'Joyent', 'NTT', 'OCI', 'OVHcloud', 'OpenShift', 'Rackspace', 'SAP', 'Salesforce', 'Tencent', 'VMware'): ['Game Development', 'Data Integration and ETL', 'Storage', 'Content Delivery and Edge Computing', 'Management and Monitoring', 'Business Process Automation', 'Supply Chain and Logistics Management', 'Collaboration and Productivity Tools', 'Networking', 'Containers and Container Orchestration', 'Customer Relationship Management (CRM)', 'Migration and Transfer Services', 'Internet of Things (IoT)', 'Blockchain', 'Human Resources (HR) and Talent Management', 'Analytics and Big Data', 'Enterprise Resource Planning (ERP)', 'Developer Tools', 'Desktop Virtualization and Remote Desktop Services', 'AI and Machine Learning', 'Media and Streaming Services', 'Database', 'Compute', 'Mobile and App Development', 'Serverless Computing', 'Security and Identity'], ('AWS', 'Azure', 'DigitalOcean', 'GCP', 'IBM', 'Oracle', 'VMware'): ['Gaming and Simulation'], ('AWS', 'Azure', 'DigitalOcean', 'GCP', 'Heroku', 'IBM', 'Oracle', 'Salesforce', 'VMware'): ['DevOps and Continuous Integration/Continuous Deployment (CI/CD)'], ('AWS', 'Azure', 'GCP', 'IBM', 'Oracle'): ['Healthcare and Life Sciences', 'Geospatial and Location-based Services', 'Robotics and Automation', 'High-Performance Computing (HPC)'], ('AWS', 'Azure', 'GCP', 'IBM', 'Oracle', 'Salesforce'): ['Data Governance and Compliance'], ('AWS', 'Azure', 'GCP', 'IBM', 'Oracle', 'VMware'): ['Disaster Recovery and Backup'], ('AWS', 'Alibaba', 'Azure', 'GCP', 'IBM', 'Oracle'): ['E-commerce and Retail'], ('AWS', 'Alibaba', 'Azure', 'GCP', 'IBM', 'Oracle', 'Salesforce', 'VMware'): ['Financial Services and Fintech']}\n"
     ]
    }
   ],
   "source": [
    "from eule import euler_keys, euler, euler_boundaries \n",
    "\n",
    "esets=euler(clouds_to_services)\n",
    "ekeys=euler_keys(clouds_to_services)\n",
    "eboundaries=euler_boundaries(clouds_to_services)\n",
    "\n",
    "print(esets)\n"
   ]
  },
  {
   "cell_type": "code",
   "execution_count": 47,
   "id": "72a1c9f9",
   "metadata": {},
   "outputs": [
    {
     "name": "stdout",
     "output_type": "stream",
     "text": [
      "{('AWS', 'Alibaba', 'Azure', 'Cisco', 'DigitalOcean', 'Fujitsu', 'GCP', 'Heroku', 'Huawei', 'IBM', 'Joyent', 'NTT', 'OCI', 'OVHcloud', 'OpenShift', 'Rackspace', 'SAP', 'Salesforce', 'Tencent', 'VMware'): ['Data and Analytics', 'Infrastructure', 'Application Development and Deployment'], ('AWS', 'Alibaba', 'Azure', 'Cisco', 'DigitalOcean', 'Fujitsu', 'GCP', 'Heroku', 'Huawei', 'IBM', 'Joyent', 'NTT', 'OCI', 'OVHcloud', 'OpenShift', 'Oracle', 'Rackspace', 'SAP', 'Salesforce', 'Tencent', 'VMware'): ['Emerging Technologies', 'Operations and Infrastructure Management', 'Industry-specific Solutions']}\n"
     ]
    }
   ],
   "source": [
    "from eule import euler_keys, euler, euler_boundaries \n",
    "\n",
    "esets=euler(clouds_to_categories)\n",
    "ekeys=euler_keys(clouds_to_categories)\n",
    "eboundaries=euler_boundaries(clouds_to_categories)\n",
    "\n",
    "print(esets)\n"
   ]
  },
  {
   "cell_type": "code",
   "execution_count": 49,
   "id": "77bf18eb",
   "metadata": {},
   "outputs": [
    {
     "data": {
      "text/plain": [
       "2"
      ]
     },
     "execution_count": 49,
     "metadata": {},
     "output_type": "execute_result"
    }
   ],
   "source": [
    "len(esets.keys())"
   ]
  },
  {
   "cell_type": "code",
   "execution_count": null,
   "id": "6e0292d9",
   "metadata": {},
   "outputs": [],
   "source": []
  }
 ],
 "metadata": {
  "kernelspec": {
   "display_name": "Python 3 (ipykernel)",
   "language": "python",
   "name": "python3"
  },
  "language_info": {
   "codemirror_mode": {
    "name": "ipython",
    "version": 3
   },
   "file_extension": ".py",
   "mimetype": "text/x-python",
   "name": "python",
   "nbconvert_exporter": "python",
   "pygments_lexer": "ipython3",
   "version": "3.8.10"
  }
 },
 "nbformat": 4,
 "nbformat_minor": 5
}
