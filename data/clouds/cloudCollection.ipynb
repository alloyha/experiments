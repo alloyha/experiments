{
 "cells": [
  {
   "cell_type": "code",
   "execution_count": 5,
   "id": "51a67634",
   "metadata": {},
   "outputs": [
    {
     "name": "stdout",
     "output_type": "stream",
     "text": [
      "Defaulting to user installation because normal site-packages is not writeable\n",
      "Requirement already satisfied: eule in /home/brunolnetto/.local/lib/python3.8/site-packages (1.0.1)\n",
      "Requirement already satisfied: docutils==0.18.1 in /home/brunolnetto/.local/lib/python3.8/site-packages (from eule) (0.18.1)\n",
      "Requirement already satisfied: numpy<2.0.0,>=1.24.1 in /home/brunolnetto/.local/lib/python3.8/site-packages (from eule) (1.24.3)\n",
      "Requirement already satisfied: sphinx-rtd-theme<2.0.0,>=1.2.0 in /home/brunolnetto/.local/lib/python3.8/site-packages (from eule) (1.2.0)\n",
      "Requirement already satisfied: toml<0.11.0,>=0.10.2 in /usr/local/lib/python3.8/dist-packages (from eule) (0.10.2)\n",
      "Requirement already satisfied: types-toml<0.11.0.0,>=0.10.8.5 in /home/brunolnetto/.local/lib/python3.8/site-packages (from eule) (0.10.8.6)\n",
      "Requirement already satisfied: sphinx<7,>=1.6 in /usr/local/lib/python3.8/dist-packages (from sphinx-rtd-theme<2.0.0,>=1.2.0->eule) (1.8.5)\n",
      "Requirement already satisfied: sphinxcontrib-jquery!=3.0.0,>=2.0.0 in /home/brunolnetto/.local/lib/python3.8/site-packages (from sphinx-rtd-theme<2.0.0,>=1.2.0->eule) (4.1)\n",
      "Requirement already satisfied: six>=1.5 in /usr/local/lib/python3.8/dist-packages (from sphinx<7,>=1.6->sphinx-rtd-theme<2.0.0,>=1.2.0->eule) (1.16.0)\n",
      "Requirement already satisfied: Jinja2>=2.3 in /usr/local/lib/python3.8/dist-packages (from sphinx<7,>=1.6->sphinx-rtd-theme<2.0.0,>=1.2.0->eule) (3.1.2)\n",
      "Requirement already satisfied: Pygments>=2.0 in /usr/local/lib/python3.8/dist-packages (from sphinx<7,>=1.6->sphinx-rtd-theme<2.0.0,>=1.2.0->eule) (2.12.0)\n",
      "Requirement already satisfied: snowballstemmer>=1.1 in /usr/local/lib/python3.8/dist-packages (from sphinx<7,>=1.6->sphinx-rtd-theme<2.0.0,>=1.2.0->eule) (2.2.0)\n",
      "Requirement already satisfied: babel!=2.0,>=1.3 in /usr/local/lib/python3.8/dist-packages (from sphinx<7,>=1.6->sphinx-rtd-theme<2.0.0,>=1.2.0->eule) (2.11.0)\n",
      "Requirement already satisfied: alabaster<0.8,>=0.7 in /usr/local/lib/python3.8/dist-packages (from sphinx<7,>=1.6->sphinx-rtd-theme<2.0.0,>=1.2.0->eule) (0.7.12)\n",
      "Requirement already satisfied: imagesize in /usr/local/lib/python3.8/dist-packages (from sphinx<7,>=1.6->sphinx-rtd-theme<2.0.0,>=1.2.0->eule) (1.4.1)\n",
      "Requirement already satisfied: requests>=2.0.0 in /usr/local/lib/python3.8/dist-packages (from sphinx<7,>=1.6->sphinx-rtd-theme<2.0.0,>=1.2.0->eule) (2.27.1)\n",
      "Requirement already satisfied: setuptools in /home/brunolnetto/.local/lib/python3.8/site-packages (from sphinx<7,>=1.6->sphinx-rtd-theme<2.0.0,>=1.2.0->eule) (67.8.0)\n",
      "Requirement already satisfied: packaging in /usr/local/lib/python3.8/dist-packages (from sphinx<7,>=1.6->sphinx-rtd-theme<2.0.0,>=1.2.0->eule) (21.3)\n",
      "Requirement already satisfied: sphinxcontrib-websupport in /usr/local/lib/python3.8/dist-packages (from sphinx<7,>=1.6->sphinx-rtd-theme<2.0.0,>=1.2.0->eule) (1.1.0)\n",
      "Requirement already satisfied: pytz>=2015.7 in /usr/local/lib/python3.8/dist-packages (from babel!=2.0,>=1.3->sphinx<7,>=1.6->sphinx-rtd-theme<2.0.0,>=1.2.0->eule) (2022.1)\n",
      "Requirement already satisfied: MarkupSafe>=2.0 in /usr/local/lib/python3.8/dist-packages (from Jinja2>=2.3->sphinx<7,>=1.6->sphinx-rtd-theme<2.0.0,>=1.2.0->eule) (2.1.1)\n",
      "Requirement already satisfied: urllib3<1.27,>=1.21.1 in /usr/local/lib/python3.8/dist-packages (from requests>=2.0.0->sphinx<7,>=1.6->sphinx-rtd-theme<2.0.0,>=1.2.0->eule) (1.26.9)\n",
      "Requirement already satisfied: certifi>=2017.4.17 in /usr/local/lib/python3.8/dist-packages (from requests>=2.0.0->sphinx<7,>=1.6->sphinx-rtd-theme<2.0.0,>=1.2.0->eule) (2022.5.18.1)\n",
      "Requirement already satisfied: charset-normalizer~=2.0.0 in /usr/local/lib/python3.8/dist-packages (from requests>=2.0.0->sphinx<7,>=1.6->sphinx-rtd-theme<2.0.0,>=1.2.0->eule) (2.0.12)\n",
      "Requirement already satisfied: idna<4,>=2.5 in /usr/local/lib/python3.8/dist-packages (from requests>=2.0.0->sphinx<7,>=1.6->sphinx-rtd-theme<2.0.0,>=1.2.0->eule) (3.3)\n",
      "Requirement already satisfied: pyparsing!=3.0.5,>=2.0.2 in /usr/local/lib/python3.8/dist-packages (from packaging->sphinx<7,>=1.6->sphinx-rtd-theme<2.0.0,>=1.2.0->eule) (3.0.9)\n"
     ]
    }
   ],
   "source": [
    "!pip install eule"
   ]
  },
  {
   "cell_type": "code",
   "execution_count": 6,
   "id": "0e3df726",
   "metadata": {},
   "outputs": [],
   "source": [
    "import pytest\n",
    "import ipytest\n",
    "import json\n",
    "\n",
    "ipytest.autoconfig()"
   ]
  },
  {
   "cell_type": "code",
   "execution_count": 7,
   "id": "1fa739c8",
   "metadata": {},
   "outputs": [],
   "source": [
    "def _update_dict(_dict, key, value):\n",
    "    if(key in list(_dict.keys())):\n",
    "        _dict[key].append(value)\n",
    "\n",
    "    else:\n",
    "        _dict[key] = []\n",
    "        _dict[key].append(value)\n",
    "\n",
    "    return _dict\n",
    "\n",
    "def _shrink_dict(_dict):\n",
    "    return {key: list({val for val in value}) for key, value in _dict.items()}\n",
    "\n",
    "def inverse_dict(dict_):\n",
    "    _dict = {}\n",
    "    \n",
    "    for key, values in dict_.items():\n",
    "        for value in values:\n",
    "            # String key\n",
    "            if(isinstance(key, str)):\n",
    "                _update_dict(_dict, value, key)\n",
    "            \n",
    "            # Tuple key \n",
    "            elif(isinstance(key, tuple)):\n",
    "                for subkey in key:\n",
    "                    _update_dict(_dict, value, subkey)                \n",
    "            \n",
    "            # Anything else\n",
    "            else:\n",
    "                msg='Keys must be hasheable! In out case, they must be str or tuple.'\n",
    "                raise Exception(msg)\n",
    "                    \n",
    "    return _shrink_dict(_dict)\n",
    "\n",
    "def flatten(l):\n",
    "    return [item for sublist in l for item in sublist]\n",
    "\n",
    "def json_prettify(json_):\n",
    "    return json.dumps(json_, indent=4);"
   ]
  },
  {
   "cell_type": "code",
   "execution_count": 8,
   "id": "16c8789e",
   "metadata": {},
   "outputs": [
    {
     "name": "stdout",
     "output_type": "stream",
     "text": [
      "\u001b[32m.\u001b[0m\u001b[32m.\u001b[0m\u001b[32m.\u001b[0m\u001b[32m.\u001b[0m\u001b[32m.\u001b[0m\u001b[32m.\u001b[0m\u001b[32m                                                                                       [100%]\u001b[0m\n",
      "\u001b[32m\u001b[32m\u001b[1m6 passed\u001b[0m\u001b[32m in 0.01s\u001b[0m\u001b[0m\n"
     ]
    }
   ],
   "source": [
    "%%ipytest\n",
    "\n",
    "from copy import deepcopy\n",
    "\n",
    "_dict={'a': [1, 2, 3, 3], 'b': [3, 4]}\n",
    "old_key='a'\n",
    "new_value=5\n",
    "new_key='c'\n",
    "updated_old_dict={'a': [1, 2, 3, 3, 5], 'b': [3, 4]}\n",
    "updated_new_dict={'a': [1, 2, 3, 3], 'b': [3, 4], 'c': [5]}\n",
    "\n",
    "inverted_dict={\n",
    "    '1': ['a'], \n",
    "    '2': ['a'],\n",
    "    '3': ['a','b'],\n",
    "    '4': ['b']\n",
    "}\n",
    "shrunk_dict={'a': [1, 2, 3], 'b': [3, 4]}\n",
    "\n",
    "def test_update_dict_old_key():\n",
    "    assert _update_dict(deepcopy(_dict), old_key, new_value) == \\\n",
    "        updated_old_dict\n",
    "    \n",
    "def test_update_dict_new_key():\n",
    "    assert _update_dict(deepcopy(_dict), new_key, new_value ) == \\\n",
    "        updated_new_dict\n",
    "    \n",
    "def test_shrink_dict():\n",
    "    assert _shrink_dict(_dict) == shrunk_dict\n",
    "\n",
    "def test_inverse_dict():\n",
    "    assert inverse_dict(_dict) == inverted_dict\n",
    "    \n",
    "def test_inverse_dict():\n",
    "    assert inverse_dict(\n",
    "        {'a': [1, 2], 'b': [3, 4]}\n",
    "    ) == {\n",
    "            1: ['a'], \n",
    "            2: ['a'],\n",
    "            3: ['b'],\n",
    "            4: ['b']\n",
    "         }\n",
    "\n",
    "def test_flatten():\n",
    "    assert flatten([[1, 2], [3, 4]]) == [1, 2, 3, 4]\n",
    "    \n",
    "def test_json_prettify():\n",
    "    assert json_prettify({'a': 1, 'b': 2}) == '{\\n    \"a\": 1,\\n    \"b\": 2\\n}'"
   ]
  },
  {
   "cell_type": "code",
   "execution_count": 22,
   "id": "78d1408f",
   "metadata": {},
   "outputs": [
    {
     "name": "stdout",
     "output_type": "stream",
     "text": [
      "{\n",
      "    \"Infrastructure\": [\n",
      "        \"Compute\",\n",
      "        \"Storage\",\n",
      "        \"Networking\",\n",
      "        \"Security and Identity\"\n",
      "    ],\n",
      "    \"Data and Analytics\": [\n",
      "        \"Database\",\n",
      "        \"AI and Machine Learning\",\n",
      "        \"Analytics and Big Data\",\n",
      "        \"Data Integration and ETL\"\n",
      "    ],\n",
      "    \"Application Development and Deployment\": [\n",
      "        \"Developer Tools\",\n",
      "        \"Containers and Container Orchestration\",\n",
      "        \"Serverless Computing\",\n",
      "        \"Mobile and App Development\",\n",
      "        \"Desktop Virtualization and Remote Desktop Services\"\n",
      "    ],\n",
      "    \"Industry-specific Solutions\": [\n",
      "        \"Internet of Things (IoT)\",\n",
      "        \"Media and Streaming Services\",\n",
      "        \"Collaboration and Productivity Tools\",\n",
      "        \"Business Process Automation\",\n",
      "        \"Customer Relationship Management (CRM)\",\n",
      "        \"Enterprise Resource Planning (ERP)\",\n",
      "        \"Human Resources (HR) and Talent Management\",\n",
      "        \"Supply Chain and Logistics Management\",\n",
      "        \"Financial Services and Fintech\",\n",
      "        \"Healthcare and Life Sciences\",\n",
      "        \"E-commerce and Retail\"\n",
      "    ],\n",
      "    \"Operations and Infrastructure Management\": [\n",
      "        \"Management and Monitoring\",\n",
      "        \"Content Delivery and Edge Computing\",\n",
      "        \"Migration and Transfer Services\",\n",
      "        \"DevOps and Continuous Integration/Continuous Deployment (CI/CD)\",\n",
      "        \"Data Governance and Compliance\",\n",
      "        \"Disaster Recovery and Backup\",\n",
      "        \"High-Performance Computing (HPC)\"\n",
      "    ],\n",
      "    \"Emerging Technologies\": [\n",
      "        \"Blockchain\",\n",
      "        \"Game Development\",\n",
      "        \"Robotics and Automation\",\n",
      "        \"Geospatial and Location-based Services\",\n",
      "        \"Gaming and Simulation\"\n",
      "    ]\n",
      "}\n"
     ]
    }
   ],
   "source": [
    "import json\n",
    "\n",
    "with open('./cloud_categories.json') as f:\n",
    "    categories_to_services = json.load(f)\n",
    "\n",
    "print(json_prettify(categories_to_services))"
   ]
  },
  {
   "cell_type": "code",
   "execution_count": 23,
   "id": "381a6f88",
   "metadata": {},
   "outputs": [
    {
     "data": {
      "text/plain": [
       "dict_keys(['Infrastructure', 'Data and Analytics', 'Application Development and Deployment', 'Industry-specific Solutions', 'Operations and Infrastructure Management', 'Emerging Technologies'])"
      ]
     },
     "execution_count": 23,
     "metadata": {},
     "output_type": "execute_result"
    }
   ],
   "source": [
    "categories_to_services.keys()"
   ]
  },
  {
   "cell_type": "code",
   "execution_count": 25,
   "id": "bdf481cc",
   "metadata": {},
   "outputs": [
    {
     "name": "stdout",
     "output_type": "stream",
     "text": [
      "{'Compute': ['AWS', 'Azure', 'GCP', 'IBM', 'OCI', 'Alibaba', 'Salesforce', 'VMware', 'DigitalOcean', 'Rackspace', 'SAP', 'Heroku', 'OpenShift', 'Cisco', 'Huawei', 'Tencent', 'OVHcloud', 'Fujitsu', 'NTT', 'Joyent'], 'Storage': ['AWS', 'Azure', 'GCP', 'IBM', 'OCI', 'Alibaba', 'Salesforce', 'VMware', 'DigitalOcean', 'Rackspace', 'SAP', 'Heroku', 'OpenShift', 'Cisco', 'Huawei', 'Tencent', 'OVHcloud', 'Fujitsu', 'NTT', 'Joyent'], 'Database': ['AWS', 'Azure', 'GCP', 'IBM', 'OCI', 'Alibaba', 'Salesforce', 'VMware', 'DigitalOcean', 'Rackspace', 'SAP', 'Heroku', 'OpenShift', 'Cisco', 'Huawei', 'Tencent', 'OVHcloud', 'Fujitsu', 'NTT', 'Joyent'], 'Networking': ['AWS', 'Azure', 'GCP', 'IBM', 'OCI', 'Alibaba', 'Salesforce', 'VMware', 'DigitalOcean', 'Rackspace', 'SAP', 'Heroku', 'OpenShift', 'Cisco', 'Huawei', 'Tencent', 'OVHcloud', 'Fujitsu', 'NTT', 'Joyent'], 'AI and Machine Learning': ['AWS', 'Azure', 'GCP', 'IBM', 'OCI', 'Alibaba', 'Salesforce', 'VMware', 'DigitalOcean', 'Rackspace', 'SAP', 'Heroku', 'OpenShift', 'Cisco', 'Huawei', 'Tencent', 'OVHcloud', 'Fujitsu', 'NTT', 'Joyent'], 'Analytics and Big Data': ['AWS', 'Azure', 'GCP', 'IBM', 'OCI', 'Alibaba', 'Salesforce', 'VMware', 'DigitalOcean', 'Rackspace', 'SAP', 'Heroku', 'OpenShift', 'Cisco', 'Huawei', 'Tencent', 'OVHcloud', 'Fujitsu', 'NTT', 'Joyent'], 'Security and Identity': ['AWS', 'Azure', 'GCP', 'IBM', 'OCI', 'Alibaba', 'Salesforce', 'VMware', 'DigitalOcean', 'Rackspace', 'SAP', 'Heroku', 'OpenShift', 'Cisco', 'Huawei', 'Tencent', 'OVHcloud', 'Fujitsu', 'NTT', 'Joyent'], 'Developer Tools': ['AWS', 'Azure', 'GCP', 'IBM', 'OCI', 'Alibaba', 'Salesforce', 'VMware', 'DigitalOcean', 'Rackspace', 'SAP', 'Heroku', 'OpenShift', 'Cisco', 'Huawei', 'Tencent', 'OVHcloud', 'Fujitsu', 'NTT', 'Joyent'], 'Internet of Things (IoT)': ['AWS', 'Azure', 'GCP', 'IBM', 'OCI', 'Alibaba', 'Salesforce', 'VMware', 'DigitalOcean', 'Rackspace', 'SAP', 'Heroku', 'OpenShift', 'Cisco', 'Huawei', 'Tencent', 'OVHcloud', 'Fujitsu', 'NTT', 'Joyent'], 'Management and Monitoring': ['AWS', 'Azure', 'GCP', 'IBM', 'OCI', 'Alibaba', 'Salesforce', 'VMware', 'DigitalOcean', 'Rackspace', 'SAP', 'Heroku', 'OpenShift', 'Cisco', 'Huawei', 'Tencent', 'OVHcloud', 'Fujitsu', 'NTT', 'Joyent'], 'Content Delivery and Edge Computing': ['AWS', 'Azure', 'GCP', 'IBM', 'OCI', 'Alibaba', 'Salesforce', 'VMware', 'DigitalOcean', 'Rackspace', 'SAP', 'Heroku', 'OpenShift', 'Cisco', 'Huawei', 'Tencent', 'OVHcloud', 'Fujitsu', 'NTT', 'Joyent'], 'Containers and Container Orchestration': ['AWS', 'Azure', 'GCP', 'IBM', 'OCI', 'Alibaba', 'Salesforce', 'VMware', 'DigitalOcean', 'Rackspace', 'SAP', 'Heroku', 'OpenShift', 'Cisco', 'Huawei', 'Tencent', 'OVHcloud', 'Fujitsu', 'NTT', 'Joyent'], 'Serverless Computing': ['AWS', 'Azure', 'GCP', 'IBM', 'OCI', 'Alibaba', 'Salesforce', 'VMware', 'DigitalOcean', 'Rackspace', 'SAP', 'Heroku', 'OpenShift', 'Cisco', 'Huawei', 'Tencent', 'OVHcloud', 'Fujitsu', 'NTT', 'Joyent'], 'Data Integration and ETL': ['AWS', 'Azure', 'GCP', 'IBM', 'OCI', 'Alibaba', 'Salesforce', 'VMware', 'DigitalOcean', 'Rackspace', 'SAP', 'Heroku', 'OpenShift', 'Cisco', 'Huawei', 'Tencent', 'OVHcloud', 'Fujitsu', 'NTT', 'Joyent'], 'Blockchain': ['AWS', 'Azure', 'GCP', 'IBM', 'OCI', 'Alibaba', 'Salesforce', 'VMware', 'DigitalOcean', 'Rackspace', 'SAP', 'Heroku', 'OpenShift', 'Cisco', 'Huawei', 'Tencent', 'OVHcloud', 'Fujitsu', 'NTT', 'Joyent'], 'Game Development': ['AWS', 'Azure', 'GCP', 'IBM', 'OCI', 'Alibaba', 'Salesforce', 'VMware', 'DigitalOcean', 'Rackspace', 'SAP', 'Heroku', 'OpenShift', 'Cisco', 'Huawei', 'Tencent', 'OVHcloud', 'Fujitsu', 'NTT', 'Joyent'], 'Media and Streaming Services': ['AWS', 'Azure', 'GCP', 'IBM', 'OCI', 'Alibaba', 'Salesforce', 'VMware', 'DigitalOcean', 'Rackspace', 'SAP', 'Heroku', 'OpenShift', 'Cisco', 'Huawei', 'Tencent', 'OVHcloud', 'Fujitsu', 'NTT', 'Joyent'], 'Mobile and App Development': ['AWS', 'Azure', 'GCP', 'IBM', 'OCI', 'Alibaba', 'Salesforce', 'VMware', 'DigitalOcean', 'Rackspace', 'SAP', 'Heroku', 'OpenShift', 'Cisco', 'Huawei', 'Tencent', 'OVHcloud', 'Fujitsu', 'NTT', 'Joyent'], 'Migration and Transfer Services': ['AWS', 'Azure', 'GCP', 'IBM', 'OCI', 'Alibaba', 'Salesforce', 'VMware', 'DigitalOcean', 'Rackspace', 'SAP', 'Heroku', 'OpenShift', 'Cisco', 'Huawei', 'Tencent', 'OVHcloud', 'Fujitsu', 'NTT', 'Joyent'], 'Desktop Virtualization and Remote Desktop Services': ['AWS', 'Azure', 'GCP', 'IBM', 'OCI', 'Alibaba', 'Salesforce', 'VMware', 'DigitalOcean', 'Rackspace', 'SAP', 'Heroku', 'OpenShift', 'Cisco', 'Huawei', 'Tencent', 'OVHcloud', 'Fujitsu', 'NTT', 'Joyent'], 'Collaboration and Productivity Tools': ['AWS', 'Azure', 'GCP', 'IBM', 'OCI', 'Alibaba', 'Salesforce', 'VMware', 'DigitalOcean', 'Rackspace', 'SAP', 'Heroku', 'OpenShift', 'Cisco', 'Huawei', 'Tencent', 'OVHcloud', 'Fujitsu', 'NTT', 'Joyent'], 'Business Process Automation': ['AWS', 'Azure', 'GCP', 'IBM', 'OCI', 'Alibaba', 'Salesforce', 'VMware', 'DigitalOcean', 'Rackspace', 'SAP', 'Heroku', 'OpenShift', 'Cisco', 'Huawei', 'Tencent', 'OVHcloud', 'Fujitsu', 'NTT', 'Joyent'], 'Customer Relationship Management (CRM)': ['AWS', 'Azure', 'GCP', 'IBM', 'OCI', 'Alibaba', 'Salesforce', 'VMware', 'DigitalOcean', 'Rackspace', 'SAP', 'Heroku', 'OpenShift', 'Cisco', 'Huawei', 'Tencent', 'OVHcloud', 'Fujitsu', 'NTT', 'Joyent'], 'Enterprise Resource Planning (ERP)': ['AWS', 'Azure', 'GCP', 'IBM', 'OCI', 'Alibaba', 'Salesforce', 'VMware', 'DigitalOcean', 'Rackspace', 'SAP', 'Heroku', 'OpenShift', 'Cisco', 'Huawei', 'Tencent', 'OVHcloud', 'Fujitsu', 'NTT', 'Joyent'], 'Human Resources (HR) and Talent Management': ['AWS', 'Azure', 'GCP', 'IBM', 'OCI', 'Alibaba', 'Salesforce', 'VMware', 'DigitalOcean', 'Rackspace', 'SAP', 'Heroku', 'OpenShift', 'Cisco', 'Huawei', 'Tencent', 'OVHcloud', 'Fujitsu', 'NTT', 'Joyent'], 'Supply Chain and Logistics Management': ['AWS', 'Azure', 'GCP', 'IBM', 'OCI', 'Alibaba', 'Salesforce', 'VMware', 'DigitalOcean', 'Rackspace', 'SAP', 'Heroku', 'OpenShift', 'Cisco', 'Huawei', 'Tencent', 'OVHcloud', 'Fujitsu', 'NTT', 'Joyent'], 'Financial Services and Fintech': ['AWS', 'Azure', 'GCP', 'IBM', 'Oracle', 'Alibaba', 'Salesforce', 'VMware'], 'Healthcare and Life Sciences': ['AWS', 'Azure', 'GCP', 'IBM', 'Oracle'], 'E-commerce and Retail': ['AWS', 'Azure', 'GCP', 'IBM', 'Oracle', 'Alibaba'], 'DevOps and Continuous Integration/Continuous Deployment (CI/CD)': ['AWS', 'Azure', 'GCP', 'IBM', 'Oracle', 'Salesforce', 'VMware', 'DigitalOcean', 'Heroku'], 'Data Governance and Compliance': ['AWS', 'Azure', 'GCP', 'IBM', 'Oracle', 'Salesforce'], 'Disaster Recovery and Backup': ['AWS', 'Azure', 'GCP', 'IBM', 'Oracle', 'VMware'], 'High-Performance Computing (HPC)': ['AWS', 'Azure', 'GCP', 'IBM', 'Oracle'], 'Robotics and Automation': ['AWS', 'Azure', 'GCP', 'IBM', 'Oracle'], 'Geospatial and Location-based Services': ['AWS', 'Azure', 'GCP', 'IBM', 'Oracle'], 'Gaming and Simulation': ['AWS', 'Azure', 'GCP', 'IBM', 'Oracle', 'VMware', 'DigitalOcean']}\n"
     ]
    }
   ],
   "source": [
    "import json\n",
    "\n",
    "with open('./cloud_services.json') as f:\n",
    "    services_to_clouds = json.load(f)\n",
    "\n",
    "print(services_to_clouds)"
   ]
  },
  {
   "cell_type": "code",
   "execution_count": 31,
   "id": "71ab0261",
   "metadata": {},
   "outputs": [
    {
     "data": {
      "text/plain": [
       "['AWS',\n",
       " 'Azure',\n",
       " 'GCP',\n",
       " 'IBM',\n",
       " 'OCI',\n",
       " 'Alibaba',\n",
       " 'Salesforce',\n",
       " 'VMware',\n",
       " 'DigitalOcean',\n",
       " 'Rackspace',\n",
       " 'SAP',\n",
       " 'Heroku',\n",
       " 'OpenShift',\n",
       " 'Cisco',\n",
       " 'Huawei',\n",
       " 'Tencent',\n",
       " 'OVHcloud',\n",
       " 'Fujitsu',\n",
       " 'NTT',\n",
       " 'Joyent',\n",
       " 'Oracle']"
      ]
     },
     "execution_count": 31,
     "metadata": {},
     "output_type": "execute_result"
    }
   ],
   "source": [
    "clouds_to_services=inverse_dict(services_to_clouds)\n",
    "list(clouds_to_services.keys())"
   ]
  },
  {
   "cell_type": "code",
   "execution_count": 20,
   "id": "4a92d6a2",
   "metadata": {},
   "outputs": [
    {
     "name": "stdout",
     "output_type": "stream",
     "text": [
      "{'Compute': 'Infrastructure', 'Storage': 'Infrastructure', 'Networking': 'Infrastructure', 'Security and Identity': 'Infrastructure', 'Database': 'Data and Analytics', 'AI and Machine Learning': 'Data and Analytics', 'Analytics and Big Data': 'Data and Analytics', 'Data Integration and ETL': 'Data and Analytics', 'Developer Tools': 'Application Development and Deployment', 'Containers and Container Orchestration': 'Application Development and Deployment', 'Serverless Computing': 'Application Development and Deployment', 'Mobile and App Development': 'Application Development and Deployment', 'Desktop Virtualization and Remote Desktop Services': 'Application Development and Deployment', 'Internet of Things (IoT)': 'Industry-specific Solutions', 'Media and Streaming Services': 'Industry-specific Solutions', 'Collaboration and Productivity Tools': 'Industry-specific Solutions', 'Business Process Automation': 'Industry-specific Solutions', 'Customer Relationship Management (CRM)': 'Industry-specific Solutions', 'Enterprise Resource Planning (ERP)': 'Industry-specific Solutions', 'Human Resources (HR) and Talent Management': 'Industry-specific Solutions', 'Supply Chain and Logistics Management': 'Industry-specific Solutions', 'Financial Services and Fintech': 'Industry-specific Solutions', 'Healthcare and Life Sciences': 'Industry-specific Solutions', 'E-commerce and Retail': 'Industry-specific Solutions', 'Management and Monitoring': 'Operations and Infrastructure Management', 'Content Delivery and Edge Computing': 'Operations and Infrastructure Management', 'Migration and Transfer Services': 'Operations and Infrastructure Management', 'DevOps and Continuous Integration/Continuous Deployment (CI/CD)': 'Operations and Infrastructure Management', 'Data Governance and Compliance': 'Operations and Infrastructure Management', 'Disaster Recovery and Backup': 'Operations and Infrastructure Management', 'High-Performance Computing (HPC)': 'Operations and Infrastructure Management', 'Blockchain': 'Emerging Technologies', 'Game Development': 'Emerging Technologies', 'Robotics and Automation': 'Emerging Technologies', 'Geospatial and Location-based Services': 'Emerging Technologies', 'Gaming and Simulation': 'Emerging Technologies'}\n"
     ]
    }
   ],
   "source": [
    "service_to_categories=inverse_dict(categories_to_services)\n",
    "\n",
    "service_to_categories={service: category[0] for service, category in service_to_categories.items()}\n",
    "\n",
    "print(service_to_categories)"
   ]
  },
  {
   "cell_type": "code",
   "execution_count": 21,
   "id": "9940104c",
   "metadata": {},
   "outputs": [
    {
     "ename": "NameError",
     "evalue": "name 'clouds_to_services' is not defined",
     "output_type": "error",
     "traceback": [
      "\u001b[0;31m---------------------------------------------------------------------------\u001b[0m",
      "\u001b[0;31mNameError\u001b[0m                                 Traceback (most recent call last)",
      "Input \u001b[0;32mIn [21]\u001b[0m, in \u001b[0;36m<cell line: 1>\u001b[0;34m()\u001b[0m\n\u001b[1;32m      1\u001b[0m clouds_to_categories\u001b[38;5;241m=\u001b[39m{\n\u001b[1;32m      2\u001b[0m     cloud_name: \u001b[38;5;28mlist\u001b[39m(\u001b[38;5;28mset\u001b[39m(\u001b[38;5;28mmap\u001b[39m(\u001b[38;5;28;01mlambda\u001b[39;00m service_name: service_to_categories[service_name], services))) \\\n\u001b[0;32m----> 3\u001b[0m     \u001b[38;5;28;01mfor\u001b[39;00m cloud_name, services \u001b[38;5;129;01min\u001b[39;00m \u001b[43mclouds_to_services\u001b[49m\u001b[38;5;241m.\u001b[39mitems()\n\u001b[1;32m      4\u001b[0m }\n\u001b[1;32m      5\u001b[0m clouds_to_categories\n",
      "\u001b[0;31mNameError\u001b[0m: name 'clouds_to_services' is not defined"
     ]
    }
   ],
   "source": [
    "clouds_to_categories={\n",
    "    cloud_name: list(set(map(lambda service_name: service_to_categories[service_name], services))) \\\n",
    "    for cloud_name, services in clouds_to_services.items()\n",
    "}\n",
    "clouds_to_categories"
   ]
  },
  {
   "cell_type": "code",
   "execution_count": 19,
   "id": "245c580e",
   "metadata": {},
   "outputs": [
    {
     "ename": "NameError",
     "evalue": "name 'clouds' is not defined",
     "output_type": "error",
     "traceback": [
      "\u001b[0;31m---------------------------------------------------------------------------\u001b[0m",
      "\u001b[0;31mNameError\u001b[0m                                 Traceback (most recent call last)",
      "Input \u001b[0;32mIn [19]\u001b[0m, in \u001b[0;36m<cell line: 1>\u001b[0;34m()\u001b[0m\n\u001b[0;32m----> 1\u001b[0m services\u001b[38;5;241m=\u001b[39m\u001b[38;5;28mlist\u001b[39m(\u001b[43mclouds\u001b[49m\u001b[38;5;241m.\u001b[39mkeys())\n\u001b[1;32m      2\u001b[0m \u001b[38;5;28mprint\u001b[39m(services)\n\u001b[1;32m      4\u001b[0m clouds_to_services\u001b[38;5;241m=\u001b[39minverse_dict(clouds_to_services)\n",
      "\u001b[0;31mNameError\u001b[0m: name 'clouds' is not defined"
     ]
    }
   ],
   "source": [
    "services=list(clouds.keys())\n",
    "print(services)\n",
    "\n",
    "clouds_to_services=inverse_dict(clouds_to_services)\n",
    "cloud_platforms=list(clouds_to_services.keys())\n",
    "print(cloud_platforms)\n"
   ]
  },
  {
   "cell_type": "code",
   "execution_count": 17,
   "id": "e0714398",
   "metadata": {},
   "outputs": [
    {
     "ename": "NameError",
     "evalue": "name 'clouds_to_services' is not defined",
     "output_type": "error",
     "traceback": [
      "\u001b[0;31m---------------------------------------------------------------------------\u001b[0m",
      "\u001b[0;31mNameError\u001b[0m                                 Traceback (most recent call last)",
      "Input \u001b[0;32mIn [17]\u001b[0m, in \u001b[0;36m<cell line: 3>\u001b[0;34m()\u001b[0m\n\u001b[1;32m      1\u001b[0m \u001b[38;5;28;01mfrom\u001b[39;00m \u001b[38;5;21;01meule\u001b[39;00m \u001b[38;5;28;01mimport\u001b[39;00m euler_keys, euler, euler_boundaries \n\u001b[0;32m----> 3\u001b[0m esets\u001b[38;5;241m=\u001b[39meuler(\u001b[43mclouds_to_services\u001b[49m)\n\u001b[1;32m      4\u001b[0m ekeys\u001b[38;5;241m=\u001b[39meuler_keys(clouds_to_services)\n\u001b[1;32m      5\u001b[0m eboundaries\u001b[38;5;241m=\u001b[39meuler_boundaries(clouds_to_services)\n",
      "\u001b[0;31mNameError\u001b[0m: name 'clouds_to_services' is not defined"
     ]
    }
   ],
   "source": [
    "from eule import euler_keys, euler, euler_boundaries \n",
    "\n",
    "esets=euler(clouds_to_services)\n",
    "ekeys=euler_keys(clouds_to_services)\n",
    "eboundaries=euler_boundaries(clouds_to_services)\n",
    "\n",
    "print(esets)\n"
   ]
  },
  {
   "cell_type": "code",
   "execution_count": 47,
   "id": "aa6f0378",
   "metadata": {},
   "outputs": [
    {
     "name": "stdout",
     "output_type": "stream",
     "text": [
      "{('AWS', 'Alibaba', 'Azure', 'Cisco', 'DigitalOcean', 'Fujitsu', 'GCP', 'Heroku', 'Huawei', 'IBM', 'Joyent', 'NTT', 'OCI', 'OVHcloud', 'OpenShift', 'Rackspace', 'SAP', 'Salesforce', 'Tencent', 'VMware'): ['Data and Analytics', 'Infrastructure', 'Application Development and Deployment'], ('AWS', 'Alibaba', 'Azure', 'Cisco', 'DigitalOcean', 'Fujitsu', 'GCP', 'Heroku', 'Huawei', 'IBM', 'Joyent', 'NTT', 'OCI', 'OVHcloud', 'OpenShift', 'Oracle', 'Rackspace', 'SAP', 'Salesforce', 'Tencent', 'VMware'): ['Emerging Technologies', 'Operations and Infrastructure Management', 'Industry-specific Solutions']}\n"
     ]
    }
   ],
   "source": [
    "from eule import euler_keys, euler, euler_boundaries \n",
    "\n",
    "esets=euler(clouds_to_categories)\n",
    "ekeys=euler_keys(clouds_to_categories)\n",
    "eboundaries=euler_boundaries(clouds_to_categories)\n",
    "\n",
    "print(esets)\n"
   ]
  }
 ],
 "metadata": {
  "kernelspec": {
   "display_name": "Python 3 (ipykernel)",
   "language": "python",
   "name": "python3"
  },
  "language_info": {
   "codemirror_mode": {
    "name": "ipython",
    "version": 3
   },
   "file_extension": ".py",
   "mimetype": "text/x-python",
   "name": "python",
   "nbconvert_exporter": "python",
   "pygments_lexer": "ipython3",
   "version": "3.8.10"
  }
 },
 "nbformat": 4,
 "nbformat_minor": 5
}
