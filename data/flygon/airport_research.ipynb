{
 "cells": [
  {
   "cell_type": "code",
   "execution_count": 10,
   "id": "95abce56",
   "metadata": {},
   "outputs": [
    {
     "name": "stdout",
     "output_type": "stream",
     "text": [
      "Defaulting to user installation because normal site-packages is not writeable\n",
      "Requirement already satisfied: lxml in /usr/lib/python3/dist-packages (4.5.0)\n",
      "Collecting polars\n",
      "  Obtaining dependency information for polars from https://files.pythonhosted.org/packages/f6/69/0a8d491916221d158008146d38614e150ec94e61cd32747be14ef7ba4fa4/polars-0.19.3-cp38-abi3-manylinux_2_17_x86_64.manylinux2014_x86_64.whl.metadata\n",
      "  Downloading polars-0.19.3-cp38-abi3-manylinux_2_17_x86_64.manylinux2014_x86_64.whl.metadata (14 kB)\n",
      "Downloading polars-0.19.3-cp38-abi3-manylinux_2_17_x86_64.manylinux2014_x86_64.whl (19.8 MB)\n",
      "\u001b[2K   \u001b[38;2;114;156;31m━━━━━━━━━━━━━━━━━━━━━━━━━━━━━━━━━━━━━━━━\u001b[0m \u001b[32m19.8/19.8 MB\u001b[0m \u001b[31m10.3 MB/s\u001b[0m eta \u001b[36m0:00:00\u001b[0mm eta \u001b[36m0:00:01\u001b[0m[36m0:00:01\u001b[0m\n",
      "\u001b[?25hInstalling collected packages: polars\n",
      "Successfully installed polars-0.19.3\n"
     ]
    }
   ],
   "source": [
    "!pip install lxml polars"
   ]
  },
  {
   "cell_type": "code",
   "execution_count": 23,
   "id": "1f22d515",
   "metadata": {},
   "outputs": [
    {
     "name": "stdout",
     "output_type": "stream",
     "text": [
      "shape: (1_579, 3)\n",
      "┌────────────────┬─────────────┬────────┐\n",
      "│ city           ┆ country     ┆ symbol │\n",
      "│ ---            ┆ ---         ┆ ---    │\n",
      "│ str            ┆ str         ┆ str    │\n",
      "╞════════════════╪═════════════╪════════╡\n",
      "│ Aalborg        ┆ Denmark     ┆ AAL    │\n",
      "│ Aalesund       ┆ Norway      ┆ AES    │\n",
      "│ Aarhus         ┆ Denmark     ┆ AAR    │\n",
      "│ Abbotsford, BC ┆ Canada      ┆ YXX    │\n",
      "│ …              ┆ …           ┆ …      │\n",
      "│ Zaragoza       ┆ Spain       ┆ ZAZ    │\n",
      "│ Zhengzhou      ┆ China       ┆ CGO    │\n",
      "│ Zhoushan       ┆ China       ┆ HSN    │\n",
      "│ Zurich         ┆ Switzerland ┆ ZRH    │\n",
      "└────────────────┴─────────────┴────────┘\n"
     ]
    }
   ],
   "source": [
    "from bs4 import BeautifulSoup\n",
    "from os import getcwd\n",
    "import polars as pl\n",
    "\n",
    "current_folder=getcwd()\n",
    "file_path=f\"{current_folder}/airports.txt\"\n",
    "\n",
    "# Sample HTML content\n",
    "with open(file_path) as file:\n",
    "    html_content = file.read()\n",
    "\n",
    "# Create a BeautifulSoup object to parse the HTML\n",
    "soup = BeautifulSoup(html_content, 'lxml')\n",
    "\n",
    "# Create a BeautifulSoup object to parse the HTML\n",
    "soup = BeautifulSoup(html_content, 'lxml')\n",
    "\n",
    "# Find all table rows (tr elements)\n",
    "table_rows = soup.find_all('tr')\n",
    "\n",
    "# Initialize empty lists for each column\n",
    "cities = []\n",
    "countries = []\n",
    "symbols = []\n",
    "\n",
    "# Loop through each table row\n",
    "for row in table_rows:\n",
    "    # Find all table cells (td elements) within the row\n",
    "    cells = row.find_all('td')\n",
    "    \n",
    "    # Extract data from the cells\n",
    "    if len(cells) == 3:  # Ensure there are exactly 3 cells\n",
    "        city = cells[0].text.strip()\n",
    "        country = cells[1].text.strip()\n",
    "        symbol = cells[2].text.strip()\n",
    "        \n",
    "        # Append data to respective lists\n",
    "        cities.append(city)\n",
    "        countries.append(country)\n",
    "        symbols.append(symbol)\n",
    "\n",
    "# Create a Polars DataFrame\n",
    "df = pl.DataFrame({\n",
    "    \"city\": cities,\n",
    "    \"country\": countries,\n",
    "    \"symbol\": symbols\n",
    "})\n",
    "\n",
    "# Display the Polars DataFrame\n",
    "print(df)\n",
    "\n",
    "# Save the Polars DataFrame to a CSV file\n",
    "df.write_csv(\"airports.csv\")"
   ]
  },
  {
   "cell_type": "code",
   "execution_count": 16,
   "id": "79ff7429",
   "metadata": {},
   "outputs": [
    {
     "data": {
      "text/plain": [
       "209"
      ]
     },
     "execution_count": 16,
     "metadata": {},
     "output_type": "execute_result"
    }
   ],
   "source": [
    "from numpy import unique\n",
    "\n",
    "countries=unique(list(df['country']))\n",
    "\n",
    "len(countries)"
   ]
  },
  {
   "cell_type": "code",
   "execution_count": 22,
   "id": "4271a3d3",
   "metadata": {},
   "outputs": [
    {
     "name": "stdout",
     "output_type": "stream",
     "text": [
      "shape: (209, 3)\n",
      "┌──────────────┬──────┬────────┐\n",
      "│ country      ┆ city ┆ symbol │\n",
      "│ ---          ┆ ---  ┆ ---    │\n",
      "│ str          ┆ u32  ┆ u32    │\n",
      "╞══════════════╪══════╪════════╡\n",
      "│ Lebanon      ┆ 1    ┆ 1      │\n",
      "│ Saudi Arabia ┆ 4    ┆ 4      │\n",
      "│ Greece       ┆ 14   ┆ 14     │\n",
      "│ England      ┆ 18   ┆ 18     │\n",
      "│ …            ┆ …    ┆ …      │\n",
      "│ USA          ┆ 446  ┆ 446    │\n",
      "│ Reunion      ┆ 2    ┆ 2      │\n",
      "│ Georgia      ┆ 1    ┆ 1      │\n",
      "│ Croatia      ┆ 4    ┆ 4      │\n",
      "└──────────────┴──────┴────────┘\n"
     ]
    }
   ],
   "source": [
    "# Count occurrences by 'Country' column\n",
    "counted_df = df.group_by('country').agg(pl.count('*'))\n",
    "\n",
    "# Display the counted DataFrame\n",
    "print(counted_df)\n",
    "\n",
    "# Save the Polars DataFrame to a CSV file\n",
    "counted_df.write_csv(\"airports_count.csv\")"
   ]
  },
  {
   "cell_type": "code",
   "execution_count": null,
   "id": "e7077133",
   "metadata": {},
   "outputs": [],
   "source": []
  }
 ],
 "metadata": {
  "kernelspec": {
   "display_name": "Python 3 (ipykernel)",
   "language": "python",
   "name": "python3"
  },
  "language_info": {
   "codemirror_mode": {
    "name": "ipython",
    "version": 3
   },
   "file_extension": ".py",
   "mimetype": "text/x-python",
   "name": "python",
   "nbconvert_exporter": "python",
   "pygments_lexer": "ipython3",
   "version": "3.8.10"
  }
 },
 "nbformat": 4,
 "nbformat_minor": 5
}
