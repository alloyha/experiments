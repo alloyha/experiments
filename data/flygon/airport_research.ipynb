{
 "cells": [
  {
   "cell_type": "code",
   "execution_count": 10,
   "id": "95abce56",
   "metadata": {},
   "outputs": [
    {
     "name": "stdout",
     "output_type": "stream",
     "text": [
      "Defaulting to user installation because normal site-packages is not writeable\n",
      "Requirement already satisfied: lxml in /usr/lib/python3/dist-packages (4.5.0)\n",
      "Collecting polars\n",
      "  Obtaining dependency information for polars from https://files.pythonhosted.org/packages/f6/69/0a8d491916221d158008146d38614e150ec94e61cd32747be14ef7ba4fa4/polars-0.19.3-cp38-abi3-manylinux_2_17_x86_64.manylinux2014_x86_64.whl.metadata\n",
      "  Downloading polars-0.19.3-cp38-abi3-manylinux_2_17_x86_64.manylinux2014_x86_64.whl.metadata (14 kB)\n",
      "Downloading polars-0.19.3-cp38-abi3-manylinux_2_17_x86_64.manylinux2014_x86_64.whl (19.8 MB)\n",
      "\u001b[2K   \u001b[38;2;114;156;31m━━━━━━━━━━━━━━━━━━━━━━━━━━━━━━━━━━━━━━━━\u001b[0m \u001b[32m19.8/19.8 MB\u001b[0m \u001b[31m10.3 MB/s\u001b[0m eta \u001b[36m0:00:00\u001b[0mm eta \u001b[36m0:00:01\u001b[0m[36m0:00:01\u001b[0m\n",
      "\u001b[?25hInstalling collected packages: polars\n",
      "Successfully installed polars-0.19.3\n"
     ]
    }
   ],
   "source": [
    "!pip install lxml polars"
   ]
  },
  {
   "cell_type": "code",
   "execution_count": 12,
   "id": "1f22d515",
   "metadata": {},
   "outputs": [
    {
     "name": "stdout",
     "output_type": "stream",
     "text": [
      "shape: (1_579, 3)\n",
      "┌────────────────┬─────────────┬────────┐\n",
      "│ city           ┆ country     ┆ symbol │\n",
      "│ ---            ┆ ---         ┆ ---    │\n",
      "│ str            ┆ str         ┆ str    │\n",
      "╞════════════════╪═════════════╪════════╡\n",
      "│ Aalborg        ┆ Denmark     ┆ AAL    │\n",
      "│ Aalesund       ┆ Norway      ┆ AES    │\n",
      "│ Aarhus         ┆ Denmark     ┆ AAR    │\n",
      "│ Abbotsford, BC ┆ Canada      ┆ YXX    │\n",
      "│ …              ┆ …           ┆ …      │\n",
      "│ Zaragoza       ┆ Spain       ┆ ZAZ    │\n",
      "│ Zhengzhou      ┆ China       ┆ CGO    │\n",
      "│ Zhoushan       ┆ China       ┆ HSN    │\n",
      "│ Zurich         ┆ Switzerland ┆ ZRH    │\n",
      "└────────────────┴─────────────┴────────┘\n"
     ]
    }
   ],
   "source": [
    "from bs4 import BeautifulSoup\n",
    "from os import getcwd\n",
    "import polars as pl\n",
    "\n",
    "current_folder=getcwd()\n",
    "file_path=f\"{current_folder}/airports.txt\"\n",
    "\n",
    "# Sample HTML content\n",
    "with open(file_path) as file:\n",
    "    html_content = file.read()\n",
    "\n",
    "# Create a BeautifulSoup object to parse the HTML\n",
    "soup = BeautifulSoup(html_content, 'lxml')\n",
    "\n",
    "# Create a BeautifulSoup object to parse the HTML\n",
    "soup = BeautifulSoup(html_content, 'lxml')\n",
    "\n",
    "# Find all table rows (tr elements)\n",
    "table_rows = soup.find_all('tr')\n",
    "\n",
    "# Initialize empty lists for each column\n",
    "cities = []\n",
    "countries = []\n",
    "symbols = []\n",
    "\n",
    "# Loop through each table row\n",
    "for row in table_rows:\n",
    "    # Find all table cells (td elements) within the row\n",
    "    cells = row.find_all('td')\n",
    "    \n",
    "    # Extract data from the cells\n",
    "    if len(cells) == 3:  # Ensure there are exactly 3 cells\n",
    "        city = cells[0].text.strip()\n",
    "        country = cells[1].text.strip()\n",
    "        symbol = cells[2].text.strip()\n",
    "        \n",
    "        # Append data to respective lists\n",
    "        cities.append(city)\n",
    "        countries.append(country)\n",
    "        symbols.append(symbol)\n",
    "\n",
    "# Create a Polars DataFrame\n",
    "df = pl.DataFrame({\n",
    "    \"city\": cities,\n",
    "    \"country\": countries,\n",
    "    \"symbol\": symbols\n",
    "})\n",
    "\n",
    "# Display the Polars DataFrame\n",
    "print(df)"
   ]
  },
  {
   "cell_type": "code",
   "execution_count": 16,
   "id": "79ff7429",
   "metadata": {},
   "outputs": [
    {
     "data": {
      "text/plain": [
       "209"
      ]
     },
     "execution_count": 16,
     "metadata": {},
     "output_type": "execute_result"
    }
   ],
   "source": [
    "from numpy import unique\n",
    "\n",
    "countries=unique(list(df['country']))\n",
    "\n",
    "len(countries)"
   ]
  },
  {
   "cell_type": "code",
   "execution_count": 18,
   "id": "4271a3d3",
   "metadata": {},
   "outputs": [
    {
     "name": "stderr",
     "output_type": "stream",
     "text": [
      "/tmp/ipykernel_276387/570260075.py:2: DeprecationWarning: `groupby` is deprecated. It has been renamed to `group_by`.\n",
      "  counted_df = df.groupby('country').agg(pl.count('*').alias('Count'))\n"
     ]
    },
    {
     "ename": "DuplicateError",
     "evalue": "column with name 'Count' has more than one occurrences\n\nError originated just after this operation:\nDF [\"city\", \"country\", \"symbol\"]; PROJECT */3 COLUMNS; SELECTION: \"None\"",
     "output_type": "error",
     "traceback": [
      "\u001b[0;31m---------------------------------------------------------------------------\u001b[0m",
      "\u001b[0;31mDuplicateError\u001b[0m                            Traceback (most recent call last)",
      "Cell \u001b[0;32mIn[18], line 2\u001b[0m\n\u001b[1;32m      1\u001b[0m \u001b[38;5;66;03m# Count occurrences by 'Country' column\u001b[39;00m\n\u001b[0;32m----> 2\u001b[0m counted_df \u001b[38;5;241m=\u001b[39m \u001b[43mdf\u001b[49m\u001b[38;5;241;43m.\u001b[39;49m\u001b[43mgroupby\u001b[49m\u001b[43m(\u001b[49m\u001b[38;5;124;43m'\u001b[39;49m\u001b[38;5;124;43mcountry\u001b[39;49m\u001b[38;5;124;43m'\u001b[39;49m\u001b[43m)\u001b[49m\u001b[38;5;241;43m.\u001b[39;49m\u001b[43magg\u001b[49m\u001b[43m(\u001b[49m\u001b[43mpl\u001b[49m\u001b[38;5;241;43m.\u001b[39;49m\u001b[43mcount\u001b[49m\u001b[43m(\u001b[49m\u001b[38;5;124;43m'\u001b[39;49m\u001b[38;5;124;43m*\u001b[39;49m\u001b[38;5;124;43m'\u001b[39;49m\u001b[43m)\u001b[49m\u001b[38;5;241;43m.\u001b[39;49m\u001b[43malias\u001b[49m\u001b[43m(\u001b[49m\u001b[38;5;124;43m'\u001b[39;49m\u001b[38;5;124;43mCount\u001b[39;49m\u001b[38;5;124;43m'\u001b[39;49m\u001b[43m)\u001b[49m\u001b[43m)\u001b[49m\n\u001b[1;32m      4\u001b[0m \u001b[38;5;66;03m# Display the counted DataFrame\u001b[39;00m\n\u001b[1;32m      5\u001b[0m \u001b[38;5;28mprint\u001b[39m(counted_df)\n",
      "File \u001b[0;32m~/.local/lib/python3.8/site-packages/polars/dataframe/group_by.py:240\u001b[0m, in \u001b[0;36mGroupBy.agg\u001b[0;34m(self, *aggs, **named_aggs)\u001b[0m\n\u001b[1;32m    133\u001b[0m \u001b[38;5;28;01mdef\u001b[39;00m \u001b[38;5;21magg\u001b[39m(\n\u001b[1;32m    134\u001b[0m     \u001b[38;5;28mself\u001b[39m,\n\u001b[1;32m    135\u001b[0m     \u001b[38;5;241m*\u001b[39maggs: IntoExpr \u001b[38;5;241m|\u001b[39m Iterable[IntoExpr],\n\u001b[1;32m    136\u001b[0m     \u001b[38;5;241m*\u001b[39m\u001b[38;5;241m*\u001b[39mnamed_aggs: IntoExpr,\n\u001b[1;32m    137\u001b[0m ) \u001b[38;5;241m-\u001b[39m\u001b[38;5;241m>\u001b[39m DataFrame:\n\u001b[1;32m    138\u001b[0m \u001b[38;5;250m    \u001b[39m\u001b[38;5;124;03m\"\"\"\u001b[39;00m\n\u001b[1;32m    139\u001b[0m \u001b[38;5;124;03m    Compute aggregations for each group of a group by operation.\u001b[39;00m\n\u001b[1;32m    140\u001b[0m \n\u001b[0;32m   (...)\u001b[0m\n\u001b[1;32m    237\u001b[0m \n\u001b[1;32m    238\u001b[0m \u001b[38;5;124;03m    \"\"\"\u001b[39;00m\n\u001b[1;32m    239\u001b[0m     \u001b[38;5;28;01mreturn\u001b[39;00m (\n\u001b[0;32m--> 240\u001b[0m         \u001b[38;5;28;43mself\u001b[39;49m\u001b[38;5;241;43m.\u001b[39;49m\u001b[43mdf\u001b[49m\u001b[38;5;241;43m.\u001b[39;49m\u001b[43mlazy\u001b[49m\u001b[43m(\u001b[49m\u001b[43m)\u001b[49m\n\u001b[1;32m    241\u001b[0m \u001b[43m        \u001b[49m\u001b[38;5;241;43m.\u001b[39;49m\u001b[43mgroup_by\u001b[49m\u001b[43m(\u001b[49m\u001b[38;5;28;43mself\u001b[39;49m\u001b[38;5;241;43m.\u001b[39;49m\u001b[43mby\u001b[49m\u001b[43m,\u001b[49m\u001b[43m \u001b[49m\u001b[38;5;241;43m*\u001b[39;49m\u001b[38;5;28;43mself\u001b[39;49m\u001b[38;5;241;43m.\u001b[39;49m\u001b[43mmore_by\u001b[49m\u001b[43m,\u001b[49m\u001b[43m \u001b[49m\u001b[43mmaintain_order\u001b[49m\u001b[38;5;241;43m=\u001b[39;49m\u001b[38;5;28;43mself\u001b[39;49m\u001b[38;5;241;43m.\u001b[39;49m\u001b[43mmaintain_order\u001b[49m\u001b[43m)\u001b[49m\n\u001b[1;32m    242\u001b[0m \u001b[43m        \u001b[49m\u001b[38;5;241;43m.\u001b[39;49m\u001b[43magg\u001b[49m\u001b[43m(\u001b[49m\u001b[38;5;241;43m*\u001b[39;49m\u001b[43maggs\u001b[49m\u001b[43m,\u001b[49m\u001b[43m \u001b[49m\u001b[38;5;241;43m*\u001b[39;49m\u001b[38;5;241;43m*\u001b[39;49m\u001b[43mnamed_aggs\u001b[49m\u001b[43m)\u001b[49m\n\u001b[1;32m    243\u001b[0m \u001b[43m        \u001b[49m\u001b[38;5;241;43m.\u001b[39;49m\u001b[43mcollect\u001b[49m\u001b[43m(\u001b[49m\u001b[43mno_optimization\u001b[49m\u001b[38;5;241;43m=\u001b[39;49m\u001b[38;5;28;43;01mTrue\u001b[39;49;00m\u001b[43m)\u001b[49m\n\u001b[1;32m    244\u001b[0m     )\n",
      "File \u001b[0;32m~/.local/lib/python3.8/site-packages/polars/utils/deprecation.py:95\u001b[0m, in \u001b[0;36mdeprecate_renamed_parameter.<locals>.decorate.<locals>.wrapper\u001b[0;34m(*args, **kwargs)\u001b[0m\n\u001b[1;32m     90\u001b[0m \u001b[38;5;129m@wraps\u001b[39m(function)\n\u001b[1;32m     91\u001b[0m \u001b[38;5;28;01mdef\u001b[39;00m \u001b[38;5;21mwrapper\u001b[39m(\u001b[38;5;241m*\u001b[39margs: P\u001b[38;5;241m.\u001b[39margs, \u001b[38;5;241m*\u001b[39m\u001b[38;5;241m*\u001b[39mkwargs: P\u001b[38;5;241m.\u001b[39mkwargs) \u001b[38;5;241m-\u001b[39m\u001b[38;5;241m>\u001b[39m T:\n\u001b[1;32m     92\u001b[0m     _rename_keyword_argument(\n\u001b[1;32m     93\u001b[0m         old_name, new_name, kwargs, function\u001b[38;5;241m.\u001b[39m\u001b[38;5;18m__name__\u001b[39m, version\n\u001b[1;32m     94\u001b[0m     )\n\u001b[0;32m---> 95\u001b[0m     \u001b[38;5;28;01mreturn\u001b[39;00m \u001b[43mfunction\u001b[49m\u001b[43m(\u001b[49m\u001b[38;5;241;43m*\u001b[39;49m\u001b[43margs\u001b[49m\u001b[43m,\u001b[49m\u001b[43m \u001b[49m\u001b[38;5;241;43m*\u001b[39;49m\u001b[38;5;241;43m*\u001b[39;49m\u001b[43mkwargs\u001b[49m\u001b[43m)\u001b[49m\n",
      "File \u001b[0;32m~/.local/lib/python3.8/site-packages/polars/lazyframe/frame.py:1703\u001b[0m, in \u001b[0;36mLazyFrame.collect\u001b[0;34m(self, type_coercion, predicate_pushdown, projection_pushdown, simplify_expression, no_optimization, slice_pushdown, comm_subplan_elim, comm_subexpr_elim, streaming, **kwargs)\u001b[0m\n\u001b[1;32m   1690\u001b[0m     comm_subplan_elim \u001b[38;5;241m=\u001b[39m \u001b[38;5;28;01mFalse\u001b[39;00m\n\u001b[1;32m   1692\u001b[0m ldf \u001b[38;5;241m=\u001b[39m \u001b[38;5;28mself\u001b[39m\u001b[38;5;241m.\u001b[39m_ldf\u001b[38;5;241m.\u001b[39moptimization_toggle(\n\u001b[1;32m   1693\u001b[0m     type_coercion,\n\u001b[1;32m   1694\u001b[0m     predicate_pushdown,\n\u001b[0;32m   (...)\u001b[0m\n\u001b[1;32m   1701\u001b[0m     eager,\n\u001b[1;32m   1702\u001b[0m )\n\u001b[0;32m-> 1703\u001b[0m \u001b[38;5;28;01mreturn\u001b[39;00m wrap_df(\u001b[43mldf\u001b[49m\u001b[38;5;241;43m.\u001b[39;49m\u001b[43mcollect\u001b[49m\u001b[43m(\u001b[49m\u001b[43m)\u001b[49m)\n",
      "\u001b[0;31mDuplicateError\u001b[0m: column with name 'Count' has more than one occurrences\n\nError originated just after this operation:\nDF [\"city\", \"country\", \"symbol\"]; PROJECT */3 COLUMNS; SELECTION: \"None\""
     ]
    }
   ],
   "source": [
    "# Count occurrences by 'Country' column\n",
    "counted_df = df.groupby('country').agg(pl.count('*').alias('Count'))\n",
    "\n",
    "# Display the counted DataFrame\n",
    "print(counted_df)"
   ]
  },
  {
   "cell_type": "code",
   "execution_count": null,
   "id": "e7077133",
   "metadata": {},
   "outputs": [],
   "source": []
  }
 ],
 "metadata": {
  "kernelspec": {
   "display_name": "Python 3 (ipykernel)",
   "language": "python",
   "name": "python3"
  },
  "language_info": {
   "codemirror_mode": {
    "name": "ipython",
    "version": 3
   },
   "file_extension": ".py",
   "mimetype": "text/x-python",
   "name": "python",
   "nbconvert_exporter": "python",
   "pygments_lexer": "ipython3",
   "version": "3.8.10"
  }
 },
 "nbformat": 4,
 "nbformat_minor": 5
}
