{
 "cells": [
  {
   "cell_type": "code",
   "execution_count": 1,
   "id": "b6e34b42",
   "metadata": {},
   "outputs": [],
   "source": [
    "import requests as req\n",
    "from bs4 import BeautifulSoup\n",
    "import pandas as pd\n",
    "import numpy as np\n",
    "\n",
    "fname='./brazil_cities.csv'\n",
    "\n",
    "df=pd.read_csv(fname)\n",
    "\n",
    "cities={}\n",
    "\n",
    "for index, row in df.iterrows():\n",
    "    city_name=row['URL'].split('/')[-1]\n",
    "    \n",
    "    cities[city_name]=[\n",
    "        float(row['latitude'].replace(',', '.')), \n",
    "        float(row['longitude'].replace(',', '.'))\n",
    "    ]"
   ]
  },
  {
   "cell_type": "code",
   "execution_count": 7,
   "id": "71635d4d",
   "metadata": {},
   "outputs": [],
   "source": [
    "import urllib.parse\n",
    "\n",
    "cities = {urllib.parse.unquote(city_name): coordinates for city_name, coordinates in cities.items()}\n"
   ]
  },
  {
   "cell_type": "code",
   "execution_count": 10,
   "id": "81a42c58",
   "metadata": {},
   "outputs": [
    {
     "name": "stderr",
     "output_type": "stream",
     "text": [
      "  9%|███▌                                    | 493/5554 [01:33<16:18,  5.17it/s]/home/brunolnetto/.local/lib/python3.8/site-packages/spycio/spycio.py:85: RuntimeWarning: invalid value encountered in arccos\n",
      "  return arccos(cosnuv(u, v, n))\n",
      "100%|███████████████████████████████████████| 5554/5554 [18:41<00:00,  4.95it/s]\n"
     ]
    }
   ],
   "source": [
    "from spycio import distance\n",
    "from tqdm import tqdm\n",
    "\n",
    "k=10\n",
    "radius=6371\n",
    "config={'radius':radius}\n",
    "\n",
    "dist_fun=lambda A, B: distance(A, B, 'geographical', config)\n",
    "\n",
    "from multiprocessing import Process\n",
    "\n",
    "# Create a new process\n",
    "process = Process()\n",
    "\n",
    "closest_cities={}\n",
    "\n",
    "for city_name in tqdm(cities.keys()):\n",
    "    city_position=cities[city_name]\n",
    "    \n",
    "    dist_tuple_fun=lambda candidate: (candidate[0], dist_fun(city_position, candidate[1]))\n",
    "    dist_lst=list(\n",
    "        map(\n",
    "            dist_tuple_fun, \n",
    "            [city_item for city_item in list(cities.items()) if city_item[0] != city_name]\n",
    "        )\n",
    "    )\n",
    "    \n",
    "    dist_lst.sort(key=lambda x: x[1])\n",
    "    \n",
    "    closest_cities[city_name]=dist_lst[:k]"
   ]
  },
  {
   "cell_type": "code",
   "execution_count": 11,
   "id": "584e446e",
   "metadata": {},
   "outputs": [
    {
     "data": {
      "text/plain": [
       "20.46451941262333"
      ]
     },
     "execution_count": 11,
     "metadata": {},
     "output_type": "execute_result"
    }
   ],
   "source": [
    "dist_fun(cities['Itauçu'], cities['Inhumas'])"
   ]
  },
  {
   "cell_type": "code",
   "execution_count": 12,
   "id": "a54921ee",
   "metadata": {},
   "outputs": [],
   "source": [
    "import json\n",
    "\n",
    "# Serializing json\n",
    "json_object = json.dumps(closest_cities, indent=4)\n",
    "\n",
    "fname=\"{k}_closest_cities.json\".format(k=k)\n",
    "\n",
    "# Writing to sample.json\n",
    "with open(fname, \"w\") as outfile:\n",
    "    outfile.write(json_object)"
   ]
  },
  {
   "cell_type": "code",
   "execution_count": null,
   "id": "dcd362e3",
   "metadata": {},
   "outputs": [],
   "source": []
  }
 ],
 "metadata": {
  "kernelspec": {
   "display_name": "Python 3 (ipykernel)",
   "language": "python",
   "name": "python3"
  },
  "language_info": {
   "codemirror_mode": {
    "name": "ipython",
    "version": 3
   },
   "file_extension": ".py",
   "mimetype": "text/x-python",
   "name": "python",
   "nbconvert_exporter": "python",
   "pygments_lexer": "ipython3",
   "version": "3.8.10"
  }
 },
 "nbformat": 4,
 "nbformat_minor": 5
}
