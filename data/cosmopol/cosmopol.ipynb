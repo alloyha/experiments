{
 "cells": [
  {
   "cell_type": "markdown",
   "id": "c9b106a8",
   "metadata": {},
   "source": [
    "# City scrapper\n",
    "\n",
    "This notebook scraps Wikipedia route based on structured marked-up language patterns on the seek of city coordinates. There are plenty of applications, but the most promising is logistics.   "
   ]
  },
  {
   "cell_type": "code",
   "execution_count": 1,
   "id": "9af00a0d",
   "metadata": {},
   "outputs": [],
   "source": [
    "import requests as req\n",
    "from bs4 import BeautifulSoup\n",
    "\n",
    "host = 'https://en.wikipedia.org'\n",
    "head_route = '/wiki'\n"
   ]
  },
  {
   "cell_type": "code",
   "execution_count": 10,
   "id": "61ba7193",
   "metadata": {},
   "outputs": [
    {
     "name": "stdout",
     "output_type": "stream",
     "text": [
      "[{'class': ['mw-parser-output']}]\n"
     ]
    }
   ],
   "source": [
    "tail_route = '/List_of_municipalities_of_Brazil'\n",
    "\n",
    "route = head_route + tail_route\n",
    "css_query = \"#mw-content-text > div.mw-parser-output\"\n",
    "\n",
    "r = req.get(host+route)\n",
    "soup = BeautifulSoup(r.text, 'html.parser')\n",
    "\n",
    "city_routes = []\n",
    "for el in soup.select(css_query):\n",
    "  city_routes.append(el.attrs)\n",
    "\n",
    "print(city_routes)\n"
   ]
  },
  {
   "cell_type": "code",
   "execution_count": 7,
   "id": "7d0bf3da",
   "metadata": {},
   "outputs": [],
   "source": [
    "import json\n",
    "\n",
    "tail_route = '/Assis_Brasil'\n",
    "route = head_route + tail_route\n",
    "\n",
    "url = host + route\n",
    "\n",
    "r = req.get(url)\n",
    "soup = BeautifulSoup(r.text)\n",
    "\n",
    "scripts = str(soup.find('script').text).strip()\n"
   ]
  },
  {
   "cell_type": "code",
   "execution_count": 8,
   "id": "8d48b283",
   "metadata": {},
   "outputs": [
    {
     "name": "stdout",
     "output_type": "stream",
     "text": [
      "(-10.940833333333334, -69.56694444444445)\n"
     ]
    }
   ],
   "source": [
    "import json\n",
    "\n",
    "code_equalities = [\n",
    "    code_line.split('=') for code_line in scripts.split(';')\n",
    "]\n",
    "\n",
    "code_equalities = list(\n",
    "    filter(lambda el: len(el) == 2, code_equalities)\n",
    ")\n",
    "\n",
    "lh_terms = list(\n",
    "    set([ code_equality[0] for code_equality in code_equalities ])\n",
    ")\n",
    "\n",
    "lr_dict = {\n",
    "    lh_term: [] for lh_term in lh_terms\n",
    "}\n",
    "\n",
    "for code_equality in code_equalities:\n",
    "    #print(code_equality)\n",
    "    lh_key = code_equality[0]\n",
    "    \n",
    "    lr_dict[lh_key].append(code_equality[1])\n",
    "\n",
    "\n",
    "field_str = \"wgCoordinates\"\n",
    "    \n",
    "confs = list(\n",
    "    filter(\n",
    "        lambda rh_term: field_str in rh_term, \n",
    "        lr_dict['RLCONF']\n",
    "    )\n",
    ")\n",
    "\n",
    "assert len(confs) == 1\n",
    "\n",
    "conf = json.loads(confs[0])\n",
    "\n",
    "lat_lng = (\n",
    "    conf[field_str]['lat'],\n",
    "    conf[field_str]['lon']\n",
    ")\n",
    "\n",
    "print(lat_lng)\n"
   ]
  },
  {
   "cell_type": "code",
   "execution_count": 5,
   "id": "be9987e0",
   "metadata": {},
   "outputs": [],
   "source": [
    "host = 'https://en.wikipedia.org'\n",
    "\n",
    "def brazilian_city_routes():    \n",
    "    head_route = '/wiki'\n",
    "    tail_route = '/List_of_municipalities_of_Brazil'\n",
    "    route = head_route + tail_route\n",
    "    \n",
    "    uri = host+route\n",
    "    \n",
    "    css_query = \"#mw-content-text > div.mw-parser-output > table > tbody > tr > td > a\"\n",
    "\n",
    "    r = req.get(uri)\n",
    "    \n",
    "    soup = BeautifulSoup(r.text, 'html.parser')\n",
    "\n",
    "    for el in soup.select(css_query):\n",
    "      yield el.attrs['href']\n",
    "\n",
    "def get_latlng_tuple(url):\n",
    "    r = req.get(url)\n",
    "    soup = BeautifulSoup(r.text)\n",
    "\n",
    "    scripts = str(soup.find('script').text).strip()\n",
    "\n",
    "    from json import loads\n",
    "\n",
    "    code_equalities = [\n",
    "        code_line.split('=') for code_line in scripts.split(';')\n",
    "    ]\n",
    "\n",
    "    code_equalities = list(\n",
    "        filter(lambda el: len(el) == 2, code_equalities)\n",
    "    )\n",
    "\n",
    "    lh_terms = list(\n",
    "        set([ code_equality[0] for code_equality in code_equalities ])\n",
    "    )\n",
    "\n",
    "    lr_dict = {\n",
    "        lh_term: [] for lh_term in lh_terms\n",
    "    }\n",
    "\n",
    "    for code_equality in code_equalities:\n",
    "        #print(code_equality)\n",
    "        lh_key = code_equality[0]\n",
    "        lh_value = code_equality[1]\n",
    "        \n",
    "        lr_dict[lh_key].append(lh_value)\n",
    "\n",
    "\n",
    "    field_str = \"wgCoordinates\"\n",
    "\n",
    "    try:\n",
    "        confs = list(\n",
    "            filter(\n",
    "                lambda rh_term: field_str in rh_term, \n",
    "                lr_dict['RLCONF']\n",
    "            )\n",
    "        )\n",
    "        \n",
    "    except:\n",
    "       return () \n",
    "\n",
    "    if(len(confs) == 1):\n",
    "        try: \n",
    "            conf = json.loads(confs[0])\n",
    "            json.loads(confs[0])\n",
    "        except:\n",
    "            return ()\n",
    "        \n",
    "        return (\n",
    "            conf[field_str]['lat'],\n",
    "            conf[field_str]['lon']\n",
    "        )\n",
    "    else:\n",
    "        return ()"
   ]
  },
  {
   "cell_type": "code",
   "execution_count": 6,
   "id": "67ae966f",
   "metadata": {},
   "outputs": [],
   "source": [
    "import json\n",
    "\n",
    "for route in brazilian_city_routes():\n",
    "    uri = host + route\n",
    "    \n",
    "    coords = str(get_latlng_tuple(uri))\n",
    "    \n",
    "    print(uri + \" \" + coords)\n",
    "        "
   ]
  },
  {
   "cell_type": "code",
   "execution_count": null,
   "id": "dbfb03a6",
   "metadata": {},
   "outputs": [],
   "source": []
  }
 ],
 "metadata": {
  "kernelspec": {
   "display_name": "Python 3 (ipykernel)",
   "language": "python",
   "name": "python3"
  },
  "language_info": {
   "codemirror_mode": {
    "name": "ipython",
    "version": 3
   },
   "file_extension": ".py",
   "mimetype": "text/x-python",
   "name": "python",
   "nbconvert_exporter": "python",
   "pygments_lexer": "ipython3",
   "version": "3.8.10"
  }
 },
 "nbformat": 4,
 "nbformat_minor": 5
}
