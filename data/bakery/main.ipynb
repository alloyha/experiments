{
 "cells": [
  {
   "cell_type": "code",
   "execution_count": null,
   "metadata": {
    "vscode": {
     "languageId": "plaintext"
    }
   },
   "outputs": [],
   "source": [
    "import threading\n",
    "import time\n",
    "\n",
    "class BakeryAlgorithm:\n",
    "    def __init__(self, num_processes):\n",
    "        self.num_processes = num_processes\n",
    "        self.choosing = [False] * num_processes\n",
    "        self.tickets = [0] * num_processes\n",
    "\n",
    "    def lock(self, process_id):\n",
    "        self.choosing[process_id] = True\n",
    "        self.tickets[process_id] = max(self.tickets) + 1\n",
    "        self.choosing[process_id] = False\n",
    "\n",
    "        for i in range(self.num_processes):\n",
    "            if i == process_id:\n",
    "                continue\n",
    "            while self.choosing[i]:\n",
    "                pass\n",
    "            while self.tickets[i] != 0 and (\n",
    "                (self.tickets[i] < self.tickets[process_id]) or\n",
    "                (self.tickets[i] == self.tickets[process_id] and i < process_id)\n",
    "            ):\n",
    "                pass\n",
    "\n",
    "    def unlock(self, process_id):\n",
    "        self.tickets[process_id] = 0\n",
    "\n",
    "\n",
    "def compute_partial_factorial(start, end, process_id, bakery, shared_resource):\n",
    "    \"\"\"Compute the product from `start` to `end`.\"\"\"\n",
    "    bakery.lock(process_id)\n",
    "\n",
    "    print(f\"Thread {process_id} computing product from {start} to {end}.\")\n",
    "    partial_result = 1\n",
    "    for i in range(start, end + 1):\n",
    "        partial_result *= i\n",
    "    shared_resource[process_id] = partial_result\n",
    "    print(f\"Thread {process_id} completed: partial result = {partial_result}.\")\n",
    "\n",
    "    bakery.unlock(process_id)\n",
    "\n",
    "\n",
    "number = 50  # The number to compute the factorial of\n",
    "num_threads = 5\n",
    "step = number // num_threads  # Split the range equally among threads\n",
    "\n",
    "shared_resource = [1] * num_threads  # Store partial results\n",
    "bakery = BakeryAlgorithm(num_threads)\n",
    "\n",
    "threads = []\n",
    "for i in range(num_threads):\n",
    "    start = i * step + 1\n",
    "    end = (i + 1) * step if i < num_threads - 1 else number\n",
    "    t = threading.Thread(target=compute_partial_factorial, args=(start, end, i, bakery, shared_resource))\n",
    "    threads.append(t)\n",
    "    t.start()\n",
    "\n",
    "# Wait for all threads to finish\n",
    "for t in threads:\n",
    "    t.join()\n",
    "\n",
    "# Compute the final factorial by multiplying all partial results\n",
    "final_result = 1\n",
    "for partial_result in shared_resource:\n",
    "    final_result *= partial_result\n",
    "\n",
    "print(f\"\\nThe factorial of {number} is {final_result}.\")\n"
   ]
  },
  {
   "cell_type": "code",
   "execution_count": null,
   "metadata": {
    "vscode": {
     "languageId": "plaintext"
    }
   },
   "outputs": [],
   "source": []
  }
 ],
 "metadata": {
  "language_info": {
   "name": "python"
  }
 },
 "nbformat": 4,
 "nbformat_minor": 2
}
