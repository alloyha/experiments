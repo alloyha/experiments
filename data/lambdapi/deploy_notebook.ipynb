{
 "cells": [
  {
   "cell_type": "code",
   "execution_count": 1,
   "id": "03427fa7",
   "metadata": {},
   "outputs": [
    {
     "name": "stdout",
     "output_type": "stream",
     "text": [
      "Defaulting to user installation because normal site-packages is not writeable\n",
      "Requirement already satisfied: boto3 in /home/brunolnetto/.local/lib/python3.8/site-packages (1.26.153)\n",
      "Requirement already satisfied: botocore<1.30.0,>=1.29.153 in /home/brunolnetto/.local/lib/python3.8/site-packages (from boto3) (1.29.153)\n",
      "Requirement already satisfied: jmespath<2.0.0,>=0.7.1 in /home/brunolnetto/.local/lib/python3.8/site-packages (from boto3) (1.0.1)\n",
      "Requirement already satisfied: s3transfer<0.7.0,>=0.6.0 in /home/brunolnetto/.local/lib/python3.8/site-packages (from boto3) (0.6.1)\n",
      "Requirement already satisfied: python-dateutil<3.0.0,>=2.1 in /home/brunolnetto/.local/lib/python3.8/site-packages (from botocore<1.30.0,>=1.29.153->boto3) (2.8.2)\n",
      "Requirement already satisfied: urllib3<1.27,>=1.25.4 in /usr/local/lib/python3.8/dist-packages (from botocore<1.30.0,>=1.29.153->boto3) (1.26.9)\n",
      "Requirement already satisfied: six>=1.5 in /home/brunolnetto/.local/lib/python3.8/site-packages (from python-dateutil<3.0.0,>=2.1->botocore<1.30.0,>=1.29.153->boto3) (1.16.0)\n"
     ]
    }
   ],
   "source": [
    "!pip install boto3"
   ]
  },
  {
   "cell_type": "code",
   "execution_count": 2,
   "id": "bcd8b614",
   "metadata": {},
   "outputs": [],
   "source": [
    "import os\n",
    "import boto3\n",
    "import json\n",
    "import requests\n",
    "\n",
    "import sys\n",
    "sys.path.append(os.getcwd())"
   ]
  },
  {
   "cell_type": "markdown",
   "id": "b81aa2b7",
   "metadata": {},
   "source": [
    "# Utilitary build functions"
   ]
  },
  {
   "cell_type": "markdown",
   "id": "62a365fe",
   "metadata": {},
   "source": [
    "# Information for communication protocols"
   ]
  },
  {
   "cell_type": "code",
   "execution_count": 3,
   "id": "8e356e0c",
   "metadata": {},
   "outputs": [],
   "source": [
    "# Account\n",
    "account_id = '060004687794'\n",
    "\n",
    "# Server\n",
    "region = \"sa-east-1\"\n",
    "\n",
    "# Platform\n",
    "ecr_image_name = \"serverless-example\"\n",
    "tag='latest'\n",
    "\n",
    "# API\n",
    "endpoint = \"predict\"\n",
    "method_verb='POST'\n",
    "stage = \"test\"\n",
    "\n",
    "# Ellaborate information\n",
    "tagged_image_uri=f\"{ecr_image_name}:latest\"\n",
    "password_stdin=f\"{account_id}.dkr.ecr.{region}.amazonaws.com\"\n",
    "\n",
    "# Specify the role name and trust policy for the Lambda service\n",
    "role_name = 'lambda-exec-role'\n",
    "\n",
    "trust_policy = {\n",
    "    'Version': '2012-10-17',\n",
    "    'Statement': [\n",
    "        {\n",
    "            'Effect': 'Allow',\n",
    "            'Principal': {'Service': 'lambda.amazonaws.com'},\n",
    "            'Action': 'sts:AssumeRole'\n",
    "        }\n",
    "    ]\n",
    "}\n",
    "\n",
    "policy_arn = 'arn:aws:iam::aws:policy/service-role/AWSLambdaBasicExecutionRole'\n",
    "\n",
    "# Rate limits: Harsh since this will be public facing\n",
    "# Quota: Low daily limits for the same reason\n",
    "usage_constraints = {\n",
    "    'rate_limits': {\n",
    "        'burstLimit': 10,\n",
    "        'rateLimit': 10.0\n",
    "    },\n",
    "    'quota': {\n",
    "        'limit': 100,\n",
    "        'period': 'DAY'\n",
    "    }\n",
    "}\n"
   ]
  },
  {
   "cell_type": "code",
   "execution_count": 4,
   "id": "b5980f89",
   "metadata": {},
   "outputs": [],
   "source": [
    "# Function description\n",
    "func_description='SKLearn predict Lambda function'\n",
    "\n",
    "# Function name (not public facing)\n",
    "function_name = f'lambda-fn-{ecr_image_name}'"
   ]
  },
  {
   "cell_type": "markdown",
   "id": "234bc9e0",
   "metadata": {},
   "source": [
    "# Clients"
   ]
  },
  {
   "cell_type": "code",
   "execution_count": 5,
   "id": "f223d63e",
   "metadata": {},
   "outputs": [],
   "source": [
    "# Set up the IAM client\n",
    "iam_client = boto3.client('iam', region_name=region)\n",
    "\n",
    "# Set up the Lambda client\n",
    "lambda_client = boto3.client('lambda', region_name=region)\n",
    "\n",
    "# Set up the API Gateway client\n",
    "gateway_client = boto3.client('apigateway', region_name=region)"
   ]
  },
  {
   "cell_type": "markdown",
   "id": "555cfc08",
   "metadata": {},
   "source": [
    "# Development steps\n",
    "\n",
    "- IAM role image handling;\n",
    "- ECR image\n",
    "- Lambda function creation;\n",
    "- API Gateway"
   ]
  },
  {
   "cell_type": "markdown",
   "id": "81bcb91b",
   "metadata": {},
   "source": [
    "## IAM Role Image Handling"
   ]
  },
  {
   "cell_type": "markdown",
   "id": "4b46ce62",
   "metadata": {},
   "source": [
    "The first step: create a user on IAM with below permissions:\n",
    "\n",
    "- **IAMUserChangePassword**: a default permission to change password \n",
    "- **IAMFullAccess**: Allows IAM management\n",
    "- **AmazonEC2ContainerRegistryFullAccess**: Allows uploading image to ECR\n",
    "- **AWSLambda_FullAccess**: Allows access to specific Lambda function given a role \n",
    "- **AmazonAPIGatewayAdministrator**: Allows access to specific API Gateway handling \n",
    "\n"
   ]
  },
  {
   "cell_type": "code",
   "execution_count": 6,
   "id": "2960c323",
   "metadata": {},
   "outputs": [
    {
     "data": {
      "text/plain": [
       "'arn:aws:iam::060004687794:role/lambda-exec-role'"
      ]
     },
     "execution_count": 6,
     "metadata": {},
     "output_type": "execute_result"
    }
   ],
   "source": [
    "from deploy_utils.iam_utils import try_attach_role_policy\n",
    "\n",
    "# The id \"role_arn\" will be used on lambda deployment\n",
    "role_arn = try_attach_role_policy(iam_client, role_name, policy_arn, trust_policy)\n",
    "\n",
    "role_arn"
   ]
  },
  {
   "cell_type": "markdown",
   "id": "cbbd440a",
   "metadata": {},
   "source": [
    "## ECR image"
   ]
  },
  {
   "cell_type": "markdown",
   "id": "bf05f47b",
   "metadata": {},
   "source": [
    "Run 2 cells below with key stroke _Shift+Enter_ to upload the docker image to ECR."
   ]
  },
  {
   "cell_type": "code",
   "execution_count": 7,
   "id": "a8f4dba1",
   "metadata": {
    "scrolled": true
   },
   "outputs": [
    {
     "name": "stdout",
     "output_type": "stream",
     "text": [
      "Logining on ECR account...\n",
      "Deleting existent ECR image...\n",
      "Creating ECR image...\n",
      "Building docker image...\n",
      "Tagging docker image...\n",
      "Pushing docker image to ECR...\n"
     ]
    }
   ],
   "source": [
    "from deploy_utils.ecr_utils import pipe_push_image\n",
    "\n",
    "pipe_push_image(account_id, region, ecr_image_name, tag)"
   ]
  },
  {
   "cell_type": "markdown",
   "id": "130dc589",
   "metadata": {},
   "source": [
    "# Lambda function creation"
   ]
  },
  {
   "cell_type": "markdown",
   "id": "a63b4028",
   "metadata": {},
   "source": [
    "Run 2 cells below with key stroke _Shift+Enter_ to generate a Lambda Function based on Docker Image"
   ]
  },
  {
   "cell_type": "markdown",
   "id": "305c18e4",
   "metadata": {},
   "source": [
    "### Create function"
   ]
  },
  {
   "cell_type": "code",
   "execution_count": 8,
   "id": "1cd6a1eb",
   "metadata": {},
   "outputs": [
    {
     "data": {
      "text/plain": [
       "{'ResponseMetadata': {'RequestId': 'c18f7ecf-ad56-4b06-a7d8-3df2002a936f',\n",
       "  'HTTPStatusCode': 201,\n",
       "  'HTTPHeaders': {'date': 'Sat, 16 Sep 2023 19:41:34 GMT',\n",
       "   'content-type': 'application/json',\n",
       "   'content-length': '1111',\n",
       "   'connection': 'keep-alive',\n",
       "   'x-amzn-requestid': 'c18f7ecf-ad56-4b06-a7d8-3df2002a936f'},\n",
       "  'RetryAttempts': 0},\n",
       " 'FunctionName': 'lambda-fn-serverless-example',\n",
       " 'FunctionArn': 'arn:aws:lambda:sa-east-1:060004687794:function:lambda-fn-serverless-example',\n",
       " 'Role': 'arn:aws:iam::060004687794:role/lambda-exec-role',\n",
       " 'CodeSize': 0,\n",
       " 'Description': 'SKLearn predict Lambda function',\n",
       " 'Timeout': 10,\n",
       " 'MemorySize': 256,\n",
       " 'LastModified': '2023-09-16T19:41:33.154+0000',\n",
       " 'CodeSha256': 'd3e81c111a44a3745ff6f56fea543a98e6d22177a36be8ebdb7b089363336e85',\n",
       " 'Version': '31',\n",
       " 'TracingConfig': {'Mode': 'PassThrough'},\n",
       " 'RevisionId': '18db79a7-da82-4c6a-886a-3c9f86313c75',\n",
       " 'State': 'Pending',\n",
       " 'StateReason': 'The function is being created.',\n",
       " 'StateReasonCode': 'Creating',\n",
       " 'PackageType': 'Image',\n",
       " 'Architectures': ['x86_64'],\n",
       " 'EphemeralStorage': {'Size': 512},\n",
       " 'SnapStart': {'ApplyOn': 'None', 'OptimizationStatus': 'Off'}}"
      ]
     },
     "execution_count": 8,
     "metadata": {},
     "output_type": "execute_result"
    }
   ],
   "source": [
    "from deploy_utils.ecr_utils import build_ecr_url\n",
    "from deploy_utils.lambda_utils import delete_function, create_function\n",
    "\n",
    "# Retrieve (if already exists) or create a new Lambda function\n",
    "routed_url = build_ecr_url(account_id, region, ecr_image_name, tag)\n",
    "deletion_response = delete_function(lambda_client, function_name)\n",
    "create_response = create_function(lambda_client, function_name, func_description, routed_url, role_arn)\n",
    "\n",
    "create_response"
   ]
  },
  {
   "cell_type": "markdown",
   "id": "f1c32e87",
   "metadata": {},
   "source": [
    "### Get function"
   ]
  },
  {
   "cell_type": "code",
   "execution_count": 16,
   "id": "85eac6fb",
   "metadata": {},
   "outputs": [
    {
     "data": {
      "text/plain": [
       "{'ResponseMetadata': {'RequestId': '7d479e43-10ff-42ac-a55a-e9d30503ee55',\n",
       "  'HTTPStatusCode': 200,\n",
       "  'HTTPHeaders': {'date': 'Sat, 16 Sep 2023 19:41:50 GMT',\n",
       "   'content-type': 'application/json',\n",
       "   'content-length': '1427',\n",
       "   'connection': 'keep-alive',\n",
       "   'x-amzn-requestid': '7d479e43-10ff-42ac-a55a-e9d30503ee55'},\n",
       "  'RetryAttempts': 0},\n",
       " 'Configuration': {'FunctionName': 'lambda-fn-serverless-example',\n",
       "  'FunctionArn': 'arn:aws:lambda:sa-east-1:060004687794:function:lambda-fn-serverless-example',\n",
       "  'Role': 'arn:aws:iam::060004687794:role/lambda-exec-role',\n",
       "  'CodeSize': 0,\n",
       "  'Description': 'SKLearn predict Lambda function',\n",
       "  'Timeout': 10,\n",
       "  'MemorySize': 256,\n",
       "  'LastModified': '2023-09-16T19:41:33.154+0000',\n",
       "  'CodeSha256': 'd3e81c111a44a3745ff6f56fea543a98e6d22177a36be8ebdb7b089363336e85',\n",
       "  'Version': '$LATEST',\n",
       "  'TracingConfig': {'Mode': 'PassThrough'},\n",
       "  'RevisionId': '2d95a223-f1ae-4ea3-ae4b-968392bfeeff',\n",
       "  'State': 'Active',\n",
       "  'LastUpdateStatus': 'Successful',\n",
       "  'PackageType': 'Image',\n",
       "  'Architectures': ['x86_64'],\n",
       "  'EphemeralStorage': {'Size': 512},\n",
       "  'SnapStart': {'ApplyOn': 'None', 'OptimizationStatus': 'Off'}},\n",
       " 'Code': {'RepositoryType': 'ECR',\n",
       "  'ImageUri': '060004687794.dkr.ecr.sa-east-1.amazonaws.com/serverless-example:latest',\n",
       "  'ResolvedImageUri': '060004687794.dkr.ecr.sa-east-1.amazonaws.com/serverless-example@sha256:d3e81c111a44a3745ff6f56fea543a98e6d22177a36be8ebdb7b089363336e85'}}"
      ]
     },
     "execution_count": 16,
     "metadata": {},
     "output_type": "execute_result"
    }
   ],
   "source": [
    "from deploy_utils.lambda_utils import get_function\n",
    "\n",
    "get_response = get_function(lambda_client, function_name)\n",
    "\n",
    "get_response"
   ]
  },
  {
   "cell_type": "markdown",
   "id": "1db0e723",
   "metadata": {},
   "source": [
    "### Test function"
   ]
  },
  {
   "cell_type": "code",
   "execution_count": 17,
   "id": "c65da515",
   "metadata": {},
   "outputs": [
    {
     "name": "stdout",
     "output_type": "stream",
     "text": [
      "{'statusCode': 200, 'headers': {'Content-Type': 'application/json'}, 'body': '[1, 4, 9, 16, 25]', 'isBase64Encoded': False}\n"
     ]
    }
   ],
   "source": [
    "from json import dumps, loads\n",
    "\n",
    "# Prepare the event to pass to the Lambda function\n",
    "example=[1, 2, 3, 4, 5]\n",
    "\n",
    "# Transform into json format\n",
    "payload=dumps({\"body\": example})\n",
    "\n",
    "# Invoke the Lambda function\n",
    "response = lambda_client.invoke(\n",
    "    FunctionName=function_name,\n",
    "    InvocationType='RequestResponse',\n",
    "    Payload=payload\n",
    ")\n",
    "\n",
    "# Get the response from the Lambda function\n",
    "result = loads(response['Payload'].read())\n",
    "\n",
    "print(result)"
   ]
  },
  {
   "cell_type": "markdown",
   "id": "33fda8c7",
   "metadata": {},
   "source": [
    "## API Gateway setup"
   ]
  },
  {
   "cell_type": "markdown",
   "id": "6ad18b80",
   "metadata": {},
   "source": [
    "Run the cells below to set the Lambda Function as an Endpoint on API Gateway."
   ]
  },
  {
   "cell_type": "code",
   "execution_count": 18,
   "id": "42bb068e",
   "metadata": {},
   "outputs": [
    {
     "data": {
      "text/plain": [
       "{'url': 'https://yyyyqg8ce2.execute-api.sa-east-1.amazonaws.com/test/predict/',\n",
       " 'api_key': 'vypIroXEmg3XjqXSOw9708BlVT69iroL1wYjHoLn',\n",
       " 'usage_plan_id': 'dovbla',\n",
       " 'rest_api_id': 'yyyyqg8ce2'}"
      ]
     },
     "execution_count": 18,
     "metadata": {},
     "output_type": "execute_result"
    }
   ],
   "source": [
    "from deploy_utils.api_gateway_utils import deploy_rest_api, build_api_url\n",
    "\n",
    "# Define the name of the API (not public facing)\n",
    "rest_api_name = function_name + '-api'\n",
    "\n",
    "deployment_reponse = deploy_rest_api(\\\n",
    "    gateway_client, lambda_client, \\\n",
    "    account_id, region, \\\n",
    "    function_name, rest_api_name, \\\n",
    "    endpoint, method_verb, \\\n",
    "    usage_constraints, stage \\\n",
    ")\n",
    "\n",
    "deployment_reponse"
   ]
  },
  {
   "cell_type": "code",
   "execution_count": 19,
   "id": "5f9cbe4e",
   "metadata": {},
   "outputs": [
    {
     "name": "stdout",
     "output_type": "stream",
     "text": [
      "https://yyyyqg8ce2.execute-api.sa-east-1.amazonaws.com/test/predict/\n"
     ]
    }
   ],
   "source": [
    "rest_api_id=deployment_reponse['rest_api_id']\n",
    "\n",
    "# The URL by default will follow this pattern:\n",
    "api_url = build_api_url(rest_api_id, region, endpoint, stage)\n",
    "\n",
    "print(api_url)\n"
   ]
  },
  {
   "cell_type": "code",
   "execution_count": 20,
   "id": "798ed4dc",
   "metadata": {},
   "outputs": [
    {
     "name": "stdout",
     "output_type": "stream",
     "text": [
      "vypIroXEmg3XjqXSOw9708BlVT69iroL1wYjHoLn\n",
      "https://yyyyqg8ce2.execute-api.sa-east-1.amazonaws.com/test/predict/\n"
     ]
    }
   ],
   "source": [
    "api_key=deployment_reponse['api_key']\n",
    "rest_api_id=deployment_reponse['rest_api_id']\n",
    "\n",
    "# The URL by default will follow this pattern:\n",
    "api_url = build_api_url(rest_api_id, region, endpoint, stage)\n",
    "\n",
    "print(api_key)\n",
    "print(api_url)\n"
   ]
  },
  {
   "cell_type": "code",
   "execution_count": 21,
   "id": "c29513cd",
   "metadata": {},
   "outputs": [
    {
     "data": {
      "text/plain": [
       "[1, 4, 9, 16, 25]"
      ]
     },
     "execution_count": 21,
     "metadata": {},
     "output_type": "execute_result"
    }
   ],
   "source": [
    "# Prepare the event to pass to the Lambda function\n",
    "example=[1, 2, 3, 4, 5]\n",
    "\n",
    "# Transform into json format\n",
    "payload=json.dumps({\"body\": example})\n",
    "\n",
    "headers = {\n",
    "    'Content-type': 'application/json', \n",
    "    'x-api-key': api_key,\n",
    "}\n",
    "\n",
    "resp = requests.post(api_url, headers=headers, json=example)\n",
    "resp.json()\n"
   ]
  }
 ],
 "metadata": {
  "kernelspec": {
   "display_name": "Python 3 (ipykernel)",
   "language": "python",
   "name": "python3"
  },
  "language_info": {
   "codemirror_mode": {
    "name": "ipython",
    "version": 3
   },
   "file_extension": ".py",
   "mimetype": "text/x-python",
   "name": "python",
   "nbconvert_exporter": "python",
   "pygments_lexer": "ipython3",
   "version": "3.8.10"
  }
 },
 "nbformat": 4,
 "nbformat_minor": 5
}
